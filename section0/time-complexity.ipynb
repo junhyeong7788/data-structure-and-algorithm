{
 "cells": [
  {
   "cell_type": "markdown",
   "metadata": {},
   "source": [
    "## time complexity (Algorithm standard)\n",
    "\n",
    "1. Notation : 시간복잡도는 주어진 문제를 해결하기 위한 연산 횟수\n",
    "- big-omega : 최선일 때의 연산횟수를 나타낸 표기법\n",
    "- big-theta : 보통일 때의 연산횟수를 나타낸 표기법\n",
    "- big-o : 최악일 때의 연산횟수를 나타낸 표기법\n",
    "2. 시간 복잡도는 항상 big-o(worst case)를 기준으로 수행시간을 계산\n",
    "- big-o 시간 복잡도는 코딩테스트 알고리즘마다 시간 복잡도로 표기해준다.\n",
    "- 문제에서 데이터가 주어졌을 때도 데이터 중에 가장 최대 크기로 시간 복잡도를 계산한다 -> 이 알고리즘이 문제에 사용할 수 있는가 없는가를 판별가능\n",
    "- 내가 현재 짠 코드로직에서 중첩이 가장 많이 된 부분을 찾아서 코드 자체의 시간복잡도를 낮출 수 있다.\n"
   ]
  },
  {
   "cell_type": "code",
   "execution_count": 4,
   "metadata": {},
   "outputs": [
    {
     "name": "stdout",
     "output_type": "stream",
     "text": [
      "100\n"
     ]
    }
   ],
   "source": [
    "import random\n",
    "findNumber = random.randint(1, 101) # 1~100 Random number extraction\n",
    "\n",
    "for i in range(1, 101): \n",
    "    if i == findNumber:\n",
    "        print(i)\n",
    "        break"
   ]
  },
  {
   "cell_type": "code",
   "execution_count": null,
   "metadata": {},
   "outputs": [],
   "source": []
  },
  {
   "cell_type": "code",
   "execution_count": null,
   "metadata": {},
   "outputs": [],
   "source": []
  }
 ],
 "metadata": {
  "kernelspec": {
   "display_name": "py312",
   "language": "python",
   "name": "python3"
  },
  "language_info": {
   "codemirror_mode": {
    "name": "ipython",
    "version": 3
   },
   "file_extension": ".py",
   "mimetype": "text/x-python",
   "name": "python",
   "nbconvert_exporter": "python",
   "pygments_lexer": "ipython3",
   "version": "3.12.0"
  }
 },
 "nbformat": 4,
 "nbformat_minor": 2
}
