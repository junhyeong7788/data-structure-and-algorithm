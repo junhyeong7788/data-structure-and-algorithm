{
 "cells": [
  {
   "cell_type": "markdown",
   "metadata": {},
   "source": [
    "# Time complexity (Algorithm standard)\n",
    "\n",
    "### 시간복잡도 정의\n",
    "Notation : 시간복잡도는 주어진 문제를 해결하기 위한 연산 횟수\n",
    "- big-omega : 최선일 때의 연산횟수를 나타낸 표기법\n",
    "- big-theta : 보통일 때의 연산횟수를 나타낸 표기법\n",
    "- big-o : 최악일 때의 연산횟수를 나타낸 표기법"
   ]
  },
  {
   "cell_type": "code",
   "execution_count": 4,
   "metadata": {},
   "outputs": [
    {
     "name": "stdout",
     "output_type": "stream",
     "text": [
      "100\n"
     ]
    }
   ],
   "source": [
    "import random\n",
    "findNumber = random.randint(1, 101) # 1~100 Random number extraction\n",
    "\n",
    "for i in range(1, 101): \n",
    "    if i == findNumber:\n",
    "        print(i)\n",
    "        break"
   ]
  },
  {
   "cell_type": "markdown",
   "metadata": {},
   "source": [
    "\n",
    "### 코딩 테스트에서는 어떤 시간 복잡도 유형을 사용해야 할까?\n",
    "시간 복잡도는 항상 big-o(worst case)를 기준으로 수행시간을 계산\n",
    "- big-o 시간 복잡도는 코딩테스트 알고리즘마다 시간 복잡도로 표기해준다.\n",
    "- 문제에서 데이터가 주어졌을 때도 데이터 중에 가장 최대 크기로 시간 복잡도를 계산한다 -> 이 알고리즘이 문제에 사용할 수 있는가 없는가를 판별가능\n",
    "- 내가 현재 짠 코드로직에서 중첩이 가장 많이 된 부분을 찾아서 코드 자체의 시간복잡도를 낮출 수 있다.\n",
    "\n",
    "연산 횟수 계산 방법\n",
    "- 연산 횟수 = 알고리즘 시간 복잡도 n값에 데이터의 최대 크기를 대입하여 도출\n",
    "- ex) O(n^2)의 경우, n=1000일 때 연산 횟수는 1,000,000이다.\n",
    "\n",
    "알고리즘 적합성 평가\n",
    "- 버블 정렬 = (1,000,000)^2 = 1,000,000,000,000 > 40,000,000 -> 부적합 알고리즘\n",
    "- 병합 정렬 = 1,000,000log_2(1,000,000) = 약 20,000,000 -> 적합 알고리즘\n"
   ]
  },
  {
   "cell_type": "markdown",
   "metadata": {},
   "source": [
    "### 시간 복잡도를 바탕으로 코드 로직 개선하기\n",
    "- 가장 먼저 코드의 시간 복잡도를 도출할 수 있어야한다.\n",
    "\n",
    "시간 복잡도 도출 기준\n",
    "1. 상수는 시간복잡도 계산에서 제외\n",
    "2. 가장 많이 중첩된 반복문의 수행 횟수가 시간 복잡도의 기준이 됨"
   ]
  },
  {
   "cell_type": "code",
   "execution_count": 1,
   "metadata": {},
   "outputs": [
    {
     "name": "stdout",
     "output_type": "stream",
     "text": [
      "횟수1\n",
      "횟수2\n",
      "횟수3\n",
      "횟수4\n",
      "횟수5\n"
     ]
    }
   ],
   "source": [
    "N = 5\n",
    "cnt = 1\n",
    "\n",
    "for i in range(N):\n",
    "    print(\"횟수\" + str(cnt))\n",
    "    cnt += 1"
   ]
  },
  {
   "cell_type": "code",
   "execution_count": 2,
   "metadata": {},
   "outputs": [
    {
     "name": "stdout",
     "output_type": "stream",
     "text": [
      "횟수1\n",
      "횟수2\n",
      "횟수3\n",
      "횟수4\n",
      "횟수5\n",
      "횟수6\n",
      "횟수7\n",
      "횟수8\n",
      "횟수9\n",
      "횟수10\n",
      "횟수11\n",
      "횟수12\n",
      "횟수13\n",
      "횟수14\n",
      "횟수15\n"
     ]
    }
   ],
   "source": [
    "N = 5\n",
    "cnt = 1\n",
    "\n",
    "for i in range(N):\n",
    "    print(\"횟수\" + str(cnt))\n",
    "    cnt += 1\n",
    "    \n",
    "for i in range(N):\n",
    "    print(\"횟수\" + str(cnt))\n",
    "    cnt += 1\n",
    "    \n",
    "for i in range(N):\n",
    "    print(\"횟수\" + str(cnt))\n",
    "    cnt += 1"
   ]
  },
  {
   "cell_type": "markdown",
   "metadata": {},
   "source": [
    "- 위 두 연산 횟수는 3배의 차이\n",
    "- 큰 차이가 나는 것 같지만 코딩테스트에서는 일반적으로 상수를 모두 무시하므로 두 코드 모두 시간 복잡도는 O(n)으로 같다."
   ]
  },
  {
   "cell_type": "markdown",
   "metadata": {},
   "source": []
  },
  {
   "cell_type": "code",
   "execution_count": 3,
   "metadata": {},
   "outputs": [
    {
     "name": "stdout",
     "output_type": "stream",
     "text": [
      "횟수1\n",
      "횟수2\n",
      "횟수3\n",
      "횟수4\n",
      "횟수5\n",
      "횟수6\n",
      "횟수7\n",
      "횟수8\n",
      "횟수9\n",
      "횟수10\n",
      "횟수11\n",
      "횟수12\n",
      "횟수13\n",
      "횟수14\n",
      "횟수15\n",
      "횟수16\n",
      "횟수17\n",
      "횟수18\n",
      "횟수19\n",
      "횟수20\n",
      "횟수21\n",
      "횟수22\n",
      "횟수23\n",
      "횟수24\n",
      "횟수25\n"
     ]
    }
   ],
   "source": [
    "# 연산횟수 = N^2\n",
    "N = 5\n",
    "cnt = 1\n",
    "\n",
    "for i in range(N):\n",
    "    for j in range(N):\n",
    "        print(\"횟수\" + str(cnt))\n",
    "        cnt += 1"
   ]
  },
  {
   "cell_type": "markdown",
   "metadata": {},
   "source": [
    "- 시간 복잡도는 **가장 많이 중첩된 반복문을 기준으로 도출**하므로 이 코드에서는 이중 for문이 전체 코드의 시간 복잡도 기준이 된다.\n",
    "\n",
    "#### 이와 같이 내가 작성한 코드의 시간 복잡도를 도출할 수 있다면, 실제 코딩 테스트에서 시간 초과가 발생했을 때 이 원리를 바탕으로 코드를 개선할 수 있다.\n",
    "- 이 부분을 연산에 효율적인 구조로 수정하는 작업 = 문제해결"
   ]
  }
 ],
 "metadata": {
  "kernelspec": {
   "display_name": "py312",
   "language": "python",
   "name": "python3"
  },
  "language_info": {
   "codemirror_mode": {
    "name": "ipython",
    "version": 3
   },
   "file_extension": ".py",
   "mimetype": "text/x-python",
   "name": "python",
   "nbconvert_exporter": "python",
   "pygments_lexer": "ipython3",
   "version": "3.12.0"
  }
 },
 "nbformat": 4,
 "nbformat_minor": 2
}
