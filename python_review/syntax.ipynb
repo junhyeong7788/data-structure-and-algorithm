{
 "cells": [
  {
   "cell_type": "markdown",
   "metadata": {},
   "source": [
    "## Syntax (문법)\n",
    "- 기본 문법 :파이썬은 문구를 한줄씩 써야한다.\n",
    "- 많은 프로그래밍 언어들은 한줄씩 안써도 된다. 하지만 한줄씩 쓰는 것이 읽기에도 편하고, 나중에 디버깅 하기에도 편하기 때문에, 한줄씩 쓰는 것을 권장\n",
    "- 한줄씩 안써도 되는 경우 : list, tuple, dictionary... 등등"
   ]
  },
  {
   "cell_type": "code",
   "execution_count": 1,
   "metadata": {},
   "outputs": [
    {
     "name": "stdout",
     "output_type": "stream",
     "text": [
      "[1, 2, 3, 4, 5, 6, 7, 8, 9]\n",
      "(1, 2, 3, 4, 5, 6)\n"
     ]
    }
   ],
   "source": [
    "a = [1,2,3,\n",
    "     4,5,6,\n",
    "     7,8,9]\n",
    "\n",
    "b = (1,2,3,\n",
    "     4,5,6)\n",
    "print(a)\n",
    "print(b)"
   ]
  },
  {
   "cell_type": "markdown",
   "metadata": {},
   "source": [
    "- Indentation(들여쓰기) : 파이썬은 들여쓰기를 사용하여 코드의 블록을 구분"
   ]
  },
  {
   "cell_type": "code",
   "execution_count": 5,
   "metadata": {},
   "outputs": [
    {
     "name": "stdout",
     "output_type": "stream",
     "text": [
      "A is bigger than B\n"
     ]
    }
   ],
   "source": [
    "A = 3\n",
    "B = 1\n",
    "\n",
    "if A > B:\n",
    "    print('A is bigger than B')\n",
    "else:\n",
    "    print('B is bigger than A')"
   ]
  },
  {
   "cell_type": "markdown",
   "metadata": {},
   "source": [
    "- Assignment(할당) : 할당된 변수는 수식에 사용가능\n",
    "    - `x = 3` : x에 3을 할당 "
   ]
  },
  {
   "cell_type": "markdown",
   "metadata": {},
   "source": [
    "- Sequence unpacking (열 할당)\n",
    "    - `x, y = 1, 2` : x에 1, y에 2를 할당\n",
    "    - `A, B = [1, 2]` : A에 1, B에 2를 할당"
   ]
  },
  {
   "cell_type": "code",
   "execution_count": 10,
   "metadata": {},
   "outputs": [
    {
     "name": "stdout",
     "output_type": "stream",
     "text": [
      "1 _ [2, 3, 4]\n"
     ]
    }
   ],
   "source": [
    "seq = [1,2,3,4]\n",
    "a, *b = seq \n",
    "print(a,'_', b)"
   ]
  },
  {
   "cell_type": "code",
   "execution_count": 11,
   "metadata": {},
   "outputs": [
    {
     "name": "stdout",
     "output_type": "stream",
     "text": [
      "1\n",
      "[2, 3]\n",
      "4\n"
     ]
    }
   ],
   "source": [
    "seq = [1,2,3,4]\n",
    "a, *b, c = seq\n",
    "print(a)\n",
    "print(b)\n",
    "print(c)"
   ]
  },
  {
   "cell_type": "markdown",
   "metadata": {},
   "source": [
    "- X += 1 : X = X + 1\n",
    "- X -= 1 : X = X - 1"
   ]
  },
  {
   "cell_type": "code",
   "execution_count": 13,
   "metadata": {},
   "outputs": [
    {
     "name": "stdout",
     "output_type": "stream",
     "text": [
      "3\n"
     ]
    }
   ],
   "source": [
    "X = 0\n",
    "X += 1\n",
    "print(X)"
   ]
  }
 ],
 "metadata": {
  "kernelspec": {
   "display_name": "algorithm",
   "language": "python",
   "name": "python3"
  },
  "language_info": {
   "codemirror_mode": {
    "name": "ipython",
    "version": 3
   },
   "file_extension": ".py",
   "mimetype": "text/x-python",
   "name": "python",
   "nbconvert_exporter": "python",
   "pygments_lexer": "ipython3",
   "version": "3.11.9"
  }
 },
 "nbformat": 4,
 "nbformat_minor": 2
}
