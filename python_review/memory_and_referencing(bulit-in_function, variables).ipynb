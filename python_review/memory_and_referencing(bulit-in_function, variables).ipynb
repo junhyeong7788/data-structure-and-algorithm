{
 "cells": [
  {
   "cell_type": "markdown",
   "metadata": {},
   "source": [
    "## Built-in functions (내장 함수)\n",
    "- 파이썬에는 기본적으로 내장되어 있는 함수들이 있다.  \n",
    "\n",
    "- Reference : [w3school.com](https://www.w3schools.com/python/python_ref_functions.asp)\n"
   ]
  },
  {
   "cell_type": "markdown",
   "metadata": {},
   "source": [
    "## Variables (변수)\n",
    "- 변수는 값을 저장하는 공간이다.\n",
    "\n",
    "- 변수의 룰\n",
    "    1. 숫자로 시작하지 않는다.\n",
    "    2. 소문자로만 만든다.\n",
    "    3. 파이썬 키워드를 사용하지 않는다.\n",
    "    4. _로 시작해도 된다. ( _로 시작한 변수는 `개발자들 사이에서 다른 변수로 바꾸지 않는다`는 약속이 있다.)\n",
    "    5. 최대한 자세한 단어를 사용한다. (헷갈리지 않게)\n",
    "\n"
   ]
  },
  {
   "cell_type": "markdown",
   "metadata": {},
   "source": [
    "## 리스트의 열 (sequence) 특징\n",
    ": 객체의 메모리 주소 하나하나를 왼쪽에서 오른쪽으로 차례대로 저장한다.\n",
    "\n",
    "- 컴퓨터 메모리 속 :    \n",
    "\n",
    "    | X =  | 100의 메모리 주소 | 200의 메모리 주소 | 300의 메모리 주소 |\n",
    "    | :---: | :---: | :---: | :---: |"
   ]
  },
  {
   "cell_type": "markdown",
   "metadata": {},
   "source": [
    "## Memory and Referencing (메모리와 참조)\n",
    "\n",
    "- Shared Reference\n",
    "    ```\n",
    "    list1 = [100, 200, 300] # 리스트 생성\n",
    "    list2 = list1\n",
    "    list1[0] = 1000\n",
    "    list3 = [1000, 200, 300]\n",
    "    list2[1] = 2000\n",
    "    list1 = list3\n",
    "    ```\n",
    "\n",
    "    #### list1 = [100, 200, 300] 과정\n",
    "    - 1단계 : int 객체들이 생성 (100, 200, 300) \n",
    "\n",
    "        | Int class 객체 | -> | Int class 인스턴스 객체 = 100 | Counter = 0 |\n",
    "        | :---: | :---: | :---: | :---: |\n",
    "        | --- | --- | Int class 인스턴스 객체 = 200 | Counter = 0 |\n",
    "        | --- | --- | Int class 인스턴스 객체 = 300 | Counter = 0 |\n",
    "        \n",
    "    \n",
    "    - 2단계 : list 객체 생성 (리스트의 객체는 int class 인스턴스 객체의 메모리 주소를 저장)\n",
    "        | Int class 객체 | -> | List class 인스턴스 객체 [100, 200, 300]| Counter = 0 |\n",
    "        | :---: | :---: | :---: | :---: |  \n",
    "        | List class 객체 | -> | Int class 인스턴스 객체 = 100 | Counter = 1 |\n",
    "        | --- | --- | Int class 인스턴스 객체 = 200 | Counter = 1 |\n",
    "        | --- | --- | Int class 인스턴스 객체 = 300 | Counter = 1 |\n",
    "        \n",
    "        - List class 인스턴스 객체의 Int class 인스턴스 객체의 주소값\n",
    "        - Referencing이 되었기 때문에 Counter = 1이 된다.\n",
    "\n",
    "    - 3단계 : 변수 생성 : list1이라는 변수 생성\n",
    "    - 4단계 : list1이라는 변수에 List class 인스턴스 객체의 메모리 주소를 연결 (매핑)\n",
    "        | list1 = | List class 인스턴스 객체 [100, 200, 300], `Counter = 1` | Int class 인스턴스 객체 = 100 | Counter = 1 |\n",
    "        | :---: | :---: | :---: | :---: |\n",
    "        | --- | --- | Int class 인스턴스 객체 = 200 | Counter = 1 |\n",
    "        | --- | --- | Int class 인스턴스 객체 = 300 | Counter = 1 |\n",
    "\n",
    "    ####  list2 = list1 과정\n",
    "    - 1단계 : list2라는 변수 생성\n",
    "    - 2단계 : list2변수와 List class 인스턴스 객체 연결\n",
    "        | list2 = | List class 인스턴스 객체 [100, 200, 300], `Counter = 2` | Int class 인스턴스 객체 = 100 | Counter = 1 |\n",
    "        | :---: | :---: | :---: | :---: |\n",
    "        | --- | --- | Int class 인스턴스 객체 = 200 | Counter = 1 |\n",
    "        | --- | --- | Int class 인스턴스 객체 = 300 | Counter = 1 |\n",
    "\n",
    "\n",
    "    #### list1의 첫번째 객체를 1000으로 바꾼다면? `list1[0] = 1000`\n",
    "    - 1단계 : 새로운 int class 인스턴스 객체 생성 (1000)\n",
    "    - 2단계 : list1의 첫번째 객체를 1000으로 바꾼다.\n",
    "        | list1 , list2 = | List class 인스턴스 객체 [1000, 200, 300], `Counter = 2` | Int class 인스턴스 객체 = 1000 | Counter = 1 |\n",
    "        | :---: | :---: | :---: | :---: |\n",
    "        | --- | --- | Int class 인스턴스 객체 = 100 | `Counter = 0` |\n",
    "        | --- | --- | Int class 인스턴스 객체 = 200 | Counter = 1 |\n",
    "        | --- | --- | Int class 인스턴스 객체 = 300 | Counter = 1 |\n",
    "    - 3단계 : 100의 Counter = 0이 된다. (쓰레기 청소)\n",
    "        - Python의 Garbage Collection가 `Counter = 0`으로 바뀌었기에 메모리에서 삭제한다.\n",
    "\n",
    "    #### list3 = [1000, 200, 300] 과정\n",
    "    - 1단계 : list3라는 새로운 리스트 생성\n",
    "        | list1, list2 = | List class 인스턴스 객체 [1000, 200, 300], Counter = 2 | --- | --- |\n",
    "        | :---: | :---: | :---: | :---: |\n",
    "        | List class 객체 -> | 새로운 List class 인스턴스 객체 [1000, 200, 300], `Counter = 0` 생성 | Int class 인스턴스 객체 = 100 | Counter = 2 |\n",
    "        | --- | --- | Int class 인스턴스 객체 = 200 | Counter = 2 |\n",
    "        | --- | --- | Int class 인스턴스 객체 = 300 | Counter = 2 |\n",
    "    - 2단계 : 새로운 list3 변수 생성\n",
    "    - 3단계 : list3 변수와 List class 인스턴스 객체 연결\n",
    "        | list1, list2 = | List class 인스턴스 객체 [1000, 200, 300], Counter = 2 | --- | --- |\n",
    "        | :---: | :---: | :---: | :---: |\n",
    "        | list3 = | List class 인스턴스 객체 [1000, 200, 300], `Counter = 1` | Int class 인스턴스 객체 = 1000 | Counter = 2 |\n",
    "        | --- | --- | Int class 인스턴스 객체 = 200 | Counter = 2 |\n",
    "        | --- | --- | Int class 인스턴스 객체 = 300 | Counter = 2 |\n",
    "\n",
    "\n",
    "    #### list2의 두번째 객체를 2000으로 바꾼다면? `list2[1] = 2000`\n",
    "    - 1단계 : 새로운 int class 인스턴스 객체 생성 (2000)\n",
    "    - 2단계 : list2의 두번째 객체를 2000으로 바꾼다.\n",
    "        | list1, list2 = | List class 인스턴스 객체 [1000, 200, 300], Counter = 2 | --- | --- |\n",
    "        | :---: | :---: | :---: | :---: |\n",
    "        | list3 = | List class 인스턴스 객체 [1000, 200, 300], Counter = 1 | Int class 인스턴스 객체 = 1000 | Counter = 2 |\n",
    "        | --- | --- | Int class 인스턴스 객체 = 200 | `Counter = 2 -> 1` |\n",
    "        | --- | --- | Int class 인스턴스 객체 = 300 | Counter = 2 |\n",
    "        | --- | 새로운 인스턴스 객체 생성 | Int class 인스턴스 객체 = `2000` | `Counter = 1` |\n",
    "\n",
    "    #### list1을 list3와 링크 시켜주면? `list1 = list3`\n",
    "    | list2 = | List class 인스턴스 객체 [1000, 2000, 300], Counter = 1 | --- | --- |\n",
    "    | :---: | :---: | :---: | :---: |\n",
    "    | list1, list3 = | List class 인스턴스 객체 [1000, 200, 300], `Counter = 2` | Int class 인스턴스 객체 = 1000 | Counter = 2 |\n",
    "    | --- | --- | Int class 인스턴스 객체 = 300 | Counter = 2 |\n",
    "    | --- |--- | Int class 인스턴스 객체 = `2000` | `Counter = 1` |\n"
   ]
  },
  {
   "cell_type": "markdown",
   "metadata": {},
   "source": [
    "## is vs ==\n",
    "- list2 == list3\n",
    "- list2 is list3\n",
    "    - == checks for `equality`\n",
    "    - is checks for `identity`"
   ]
  },
  {
   "cell_type": "code",
   "execution_count": 5,
   "metadata": {},
   "outputs": [
    {
     "name": "stdout",
     "output_type": "stream",
     "text": [
      "False\n",
      "False\n",
      "True\n"
     ]
    }
   ],
   "source": [
    "X = [100, 200, 300]\n",
    "Y = [100, 200, 300]\n",
    "print(X is Y)\n",
    "Z = X # Z = [100, 200, 300] (X와 같은 메모리 주소)\n",
    "print(X is Y)\n",
    "print(Z is X)"
   ]
  },
  {
   "cell_type": "code",
   "execution_count": 4,
   "metadata": {},
   "outputs": [
    {
     "name": "stdout",
     "output_type": "stream",
     "text": [
      "True\n",
      "False\n",
      "True\n"
     ]
    }
   ],
   "source": [
    "X = [100, 200, 300]\n",
    "Y = X\n",
    "Z = [100, 200, 300]\n",
    "print( Y is X )\n",
    "print( Z is X )\n",
    "print( Z == X)"
   ]
  },
  {
   "cell_type": "markdown",
   "metadata": {},
   "source": [
    "## 연습"
   ]
  },
  {
   "cell_type": "code",
   "execution_count": 2,
   "metadata": {},
   "outputs": [
    {
     "name": "stdout",
     "output_type": "stream",
     "text": [
      "mentality\n"
     ]
    }
   ],
   "source": [
    "x = {'name':'craftsman'}\n",
    "y = x\n",
    "y['name'] = 'mentality' # craftman -> mentality\n",
    "print(x['name'])"
   ]
  }
 ],
 "metadata": {
  "kernelspec": {
   "display_name": "py3_11",
   "language": "python",
   "name": "python3"
  },
  "language_info": {
   "codemirror_mode": {
    "name": "ipython",
    "version": 3
   },
   "file_extension": ".py",
   "mimetype": "text/x-python",
   "name": "python",
   "nbconvert_exporter": "python",
   "pygments_lexer": "ipython3",
   "version": "3.11.9"
  }
 },
 "nbformat": 4,
 "nbformat_minor": 2
}
