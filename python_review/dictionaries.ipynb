{
 "cells": [
  {
   "cell_type": "markdown",
   "metadata": {},
   "source": [
    "## Dictionary (사전)\n",
    "- 중괄호 {} 안에 객체들을 랜덤 순서대로 모아 놓은 객체\n",
    "- key와 value를 매칭\n",
    "- key 객체의 메모리 주소 하나하나를 왼쪽에서 오른쪽으로 **랜덤** 순서로 저장시킨다.\n"
   ]
  },
  {
   "cell_type": "code",
   "execution_count": 30,
   "metadata": {},
   "outputs": [
    {
     "name": "stdout",
     "output_type": "stream",
     "text": [
      "{'name': 'jun hyeong', 'Age': 30}\n",
      "{'name': 'jun hyeong', 'nested': {'age': 30}}\n"
     ]
    }
   ],
   "source": [
    "D = {'name' : 'jun hyeong',\n",
    "     'Age' : 30}\n",
    "print(D)\n",
    "D = {'name' : 'jun hyeong', 'nested': {'age': 30}}\n",
    "print(D)"
   ]
  },
  {
   "cell_type": "code",
   "execution_count": 31,
   "metadata": {},
   "outputs": [
    {
     "name": "stdout",
     "output_type": "stream",
     "text": [
      "{'name': 'jun hyeong', 'age': 30}\n",
      "{'name': 'jun hyeong', 'age': 30}\n"
     ]
    }
   ],
   "source": [
    "D = dict(name = 'jun hyeong', age = 30)\n",
    "print(D)\n",
    "D = dict(zip(['name', 'age'], ['jun hyeong', 30]))\n",
    "print(D)"
   ]
  },
  {
   "cell_type": "markdown",
   "metadata": {},
   "source": [
    "### Dictionary `in` test (Key 존재유무 테스트)\n",
    "- `key in dict` : dict의 key에 key가 존재하면 True, 아니면 False"
   ]
  },
  {
   "cell_type": "code",
   "execution_count": 32,
   "metadata": {},
   "outputs": [
    {
     "name": "stdout",
     "output_type": "stream",
     "text": [
      "True\n",
      "False\n",
      "False\n"
     ]
    }
   ],
   "source": [
    "D = {'name' : 'jun hyeong', 'age' : 30, 'hobby' : '최강야구'}\n",
    "print('name' in D)\n",
    "print('food' in D)\n",
    "print('Craftsman Mentality' in D)\n"
   ]
  },
  {
   "cell_type": "markdown",
   "metadata": {},
   "source": [
    "### Dictionary 인덱싱 by key\n",
    "- `dict[key]` : key에 해당하는 value 반환"
   ]
  },
  {
   "cell_type": "code",
   "execution_count": 33,
   "metadata": {},
   "outputs": [
    {
     "name": "stdout",
     "output_type": "stream",
     "text": [
      "jun hyeong\n",
      "30\n"
     ]
    },
    {
     "ename": "KeyError",
     "evalue": "'height'",
     "output_type": "error",
     "traceback": [
      "\u001b[0;31m---------------------------------------------------------------------------\u001b[0m",
      "\u001b[0;31mKeyError\u001b[0m                                  Traceback (most recent call last)",
      "Cell \u001b[0;32mIn[33], line 4\u001b[0m\n\u001b[1;32m      2\u001b[0m \u001b[38;5;28mprint\u001b[39m(D[\u001b[38;5;124m'\u001b[39m\u001b[38;5;124mname\u001b[39m\u001b[38;5;124m'\u001b[39m])\n\u001b[1;32m      3\u001b[0m \u001b[38;5;28mprint\u001b[39m(D[\u001b[38;5;124m'\u001b[39m\u001b[38;5;124mage\u001b[39m\u001b[38;5;124m'\u001b[39m])\n\u001b[0;32m----> 4\u001b[0m \u001b[38;5;28mprint\u001b[39m(\u001b[43mD\u001b[49m\u001b[43m[\u001b[49m\u001b[38;5;124;43m'\u001b[39;49m\u001b[38;5;124;43mheight\u001b[39;49m\u001b[38;5;124;43m'\u001b[39;49m\u001b[43m]\u001b[49m)\n",
      "\u001b[0;31mKeyError\u001b[0m: 'height'"
     ]
    }
   ],
   "source": [
    "D = {'name' : 'jun hyeong', 'age' : 30, 'hobby' : '최강야구'}\n",
    "print(D['name'])\n",
    "print(D['age'])\n",
    "print(D['height'])"
   ]
  },
  {
   "cell_type": "markdown",
   "metadata": {},
   "source": [
    "### Dictionary Methods (사전 메소드)"
   ]
  },
  {
   "cell_type": "code",
   "execution_count": 34,
   "metadata": {},
   "outputs": [
    {
     "name": "stdout",
     "output_type": "stream",
     "text": [
      "dict_keys(['name', 'age', 'hobby'])\n",
      "dict_values(['jun hyeng', 30, '최강야구'])\n",
      "dict_items([('name', 'jun hyeng'), ('age', 30), ('hobby', '최강야구')])\n"
     ]
    }
   ],
   "source": [
    "D = {'name' : 'jun hyeng', 'age' : 30, 'hobby' : '최강야구'}\n",
    "print(D.keys())\n",
    "print(D.values())\n",
    "print(D.items())"
   ]
  },
  {
   "cell_type": "code",
   "execution_count": 35,
   "metadata": {},
   "outputs": [
    {
     "name": "stdout",
     "output_type": "stream",
     "text": [
      "name\n",
      "['jun hyeong', 30, '최강야구']\n",
      "[('name', 'jun hyeong'), ('age', 30), ('hobby', '최강야구')]\n"
     ]
    }
   ],
   "source": [
    "D = {'name' : 'jun hyeong', 'age' : 30, 'hobby' : '최강야구'}\n",
    "print(list(D.keys())[0]) # list변환 인덱싱\n",
    "print(list(D.values())) \n",
    "print(list(D.items()))"
   ]
  },
  {
   "cell_type": "markdown",
   "metadata": {},
   "source": [
    "## Dictionary 수정하기\n",
    "- `dict[key] = value` : key가 존재하면 value 수정, 없으면 key:value 추가"
   ]
  },
  {
   "cell_type": "code",
   "execution_count": 36,
   "metadata": {},
   "outputs": [
    {
     "name": "stdout",
     "output_type": "stream",
     "text": [
      "{'name': '크래프트맨 멘탈리티', 'age': 30, 'hobby': ['놀기', '먹기', '쉬기'], 'height': '비밀'}\n",
      "{'name': '크래프트맨 멘탈리티', 'age': 30, 'hobby': ['놀기', '먹기', '쉬기']}\n"
     ]
    }
   ],
   "source": [
    "D = {'name' : 'jun hyeong', 'age' : 30, 'hobby' : '최강야구'}\n",
    "D['name'] = '크래프트맨 멘탈리티' # 이름 바꾸기\n",
    "D['hobby'] = ['놀기', '먹기', '쉬기'] # 취미 리스트 객체로 바꾸기\n",
    "D['height'] = '비밀'\n",
    "print(D)\n",
    "\n",
    "del D['height'] # 키 삭제\n",
    "print(D)\n"
   ]
  },
  {
   "cell_type": "markdown",
   "metadata": {},
   "source": [
    "### Dictionary keys 는 수정 불가한 객체\n",
    "- 해쉬 함수를 이용하기 때문에 Key들은 수정불가해야 함 (컴퓨터 사이언스 토픽)"
   ]
  },
  {
   "cell_type": "code",
   "execution_count": 44,
   "metadata": {},
   "outputs": [
    {
     "name": "stdout",
     "output_type": "stream",
     "text": [
      "{}\n",
      "{(1, 2, 3): 'value1'}\n",
      "{(1, 2, 3): 'value1', (4, 5, 6): 'value2'}\n",
      "{(1, 2, 3): 'value1', (4, 5, 6): 'value2', 'name': 'jun'}\n",
      "value1\n",
      "{(1, 2, 3): 'value1', (4, 5, 6): 'value2', 'name': 'jun'}\n"
     ]
    }
   ],
   "source": [
    "D = {}\n",
    "print(D)\n",
    "\n",
    "D[(1,2,3)] = 'value1' # key : (1,2,3), value : 'value1'\n",
    "print(D)\n",
    "\n",
    "D[(4,5,6)] = 'value2'\n",
    "print(D)\n",
    "\n",
    "D['name'] = 'jun'\n",
    "print(D)\n",
    "\n",
    "x = 1; y = 2; z = 3\n",
    "print(D[(x,y,z)]) # tuple도 key로 사용가능\n",
    "print(D)\n"
   ]
  },
  {
   "cell_type": "code",
   "execution_count": 45,
   "metadata": {},
   "outputs": [
    {
     "name": "stdout",
     "output_type": "stream",
     "text": [
      "{}\n",
      "{(1, 2, 3): 'value1'}\n",
      "value1\n"
     ]
    }
   ],
   "source": [
    "D = {}\n",
    "print(D)\n",
    "\n",
    "D[(1,2,3)] = 'value1' # key : (1,2,3), value : 'value1'\n",
    "print(D)\n",
    "\n",
    "x = 1; y = 2; z = 3\n",
    "t = (x,y,z)\n",
    "print(D[t])"
   ]
  }
 ],
 "metadata": {
  "kernelspec": {
   "display_name": "algorithm",
   "language": "python",
   "name": "python3"
  },
  "language_info": {
   "codemirror_mode": {
    "name": "ipython",
    "version": 3
   },
   "file_extension": ".py",
   "mimetype": "text/x-python",
   "name": "python",
   "nbconvert_exporter": "python",
   "pygments_lexer": "ipython3",
   "version": "3.11.9"
  }
 },
 "nbformat": 4,
 "nbformat_minor": 2
}
