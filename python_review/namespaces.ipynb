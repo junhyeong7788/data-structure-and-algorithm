{
 "cells": [
  {
   "cell_type": "markdown",
   "metadata": {},
   "source": [
    "## Namespaces(이름 공간)란 무엇인가?\n",
    "- 이름을 저장하는 공간\n",
    "    - X = 2023 (X : 변수, 2023 : Int 인스턴스 객체)\n",
    "    - 1. 2023이라는 int 객체가 생성(Dynamic programming)\n",
    "    - 2. X라는 변수를 생성\n",
    "    - 3. X변수를 2023 int 객체랑 연결시켜준다. \n",
    "\n",
    "- Python에는 namespace가 존재\n",
    "    - 1. Namespace안에 테이블을 생성\n",
    "\n",
    "        | 이름 | 레퍼런싱된 객체 메모리 주소 |\n",
    "        |:---:|:---:|\n",
    "        | X | 0x10668cf70 |\n",
    "        | Y | 0x10668d2b0 |\n",
    "    \n",
    "        - X와 Y는 다른 객체를 가리키고 있다.\n",
    "    - 2. 한쪽에는 이름, 다른 한쪽에는 객체의 메모리 주소를 저장\n",
    "    - 3. hex(id()) built-in function으로 메모리 주소 확인 가능 / hex : 16진수\n",
    "    - 4. X is Y ---- is 테스트로 객체가 같은 객체인지 확인 가능\n",
    "\n",
    "- Garbage Collector (메모리 관리 시스템)\n",
    "    - 더 이상 사용하지 않는 메모리를 해제하는 역할 (잡아먹는다고 생각)\n",
    "\n",
    "- 메모리 주소 출력 함수\n",
    "    - bin(id(X)) : X라는 객체의 메모리 주소를 2진수로 출력\n",
    "    - id(X) : X라는 객체의 메모리 주소를 10진수로 출력\n",
    "    - hex(id(X)) : X라는 객체의 메모리 주소를 16진수로 출력 \n",
    "\n"
   ]
  },
  {
   "cell_type": "code",
   "execution_count": 26,
   "metadata": {},
   "outputs": [
    {
     "name": "stdout",
     "output_type": "stream",
     "text": [
      "0x10668d2b0\n",
      "0x10668d2b0\n",
      "True\n",
      "0x10668cf70\n",
      "0x10668d2b0\n",
      "False\n"
     ]
    }
   ],
   "source": [
    "X = 2023\n",
    "Y = X\n",
    "print(hex(id(X)))\n",
    "print(hex(id(Y)))\n",
    "print(X is Y)\n",
    "\n",
    "X = 2024\n",
    "print(hex(id(X)))\n",
    "print(hex(id(Y)))\n",
    "print(X is Y)"
   ]
  },
  {
   "cell_type": "markdown",
   "metadata": {},
   "source": [
    "## 연습\n",
    "\n",
    "아래 X와 Y는 다른 객체이다. 왜 그런가?  \n",
    "- is 연산자가 두 객체가 동일한 객체(메모리에서 같은 위치를 가리키는지)를 비교하는 것\n",
    "- 비록 X와 Y가 같은 값을 가진 리스트이지만, 두 변수는 서로 다른 메모리 위치에 저장된 별도의 객체를 참조하고 있다.\n",
    "    - 결과 : False\n",
    "\n",
    "- X와 Y가 같은 객체인지 확인 : `print(X == Y)`\n",
    "     - == 연산자는 값(equality)을 비교하는 것"
   ]
  },
  {
   "cell_type": "code",
   "execution_count": 27,
   "metadata": {},
   "outputs": [
    {
     "name": "stdout",
     "output_type": "stream",
     "text": [
      "False\n"
     ]
    }
   ],
   "source": [
    "X = [100, 200, 300]\n",
    "Y = [100, 200, 300]\n",
    "print(X is Y)"
   ]
  }
 ],
 "metadata": {
  "kernelspec": {
   "display_name": "py3_11",
   "language": "python",
   "name": "python3"
  },
  "language_info": {
   "codemirror_mode": {
    "name": "ipython",
    "version": 3
   },
   "file_extension": ".py",
   "mimetype": "text/x-python",
   "name": "python",
   "nbconvert_exporter": "python",
   "pygments_lexer": "ipython3",
   "version": "3.11.9"
  }
 },
 "nbformat": 4,
 "nbformat_minor": 2
}
