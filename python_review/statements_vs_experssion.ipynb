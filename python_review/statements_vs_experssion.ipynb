{
 "cells": [
  {
   "cell_type": "markdown",
   "metadata": {},
   "source": [
    "## Statement vs Expression (문구 vs 수식)\n",
    "- 프로그램 구성\n",
    "    - 프로그램 -> 모듈 -> statement -> expression\n",
    "    - 문구(Statement): 프로그램의 구성요소로서, 프로그램의 실행 흐름을 제어하는 역할을 한다.\n",
    "    - 수식(Expression): 프로그램의 구성요소로서, 값을 계산하는 역할을 한다.\n",
    "\n",
    "    "
   ]
  },
  {
   "cell_type": "markdown",
   "metadata": {},
   "source": [
    "- statements는 어떤 무언가를 하라고 알려준다.\n",
    "- expressions는 객체를 다룬다.\n",
    "    - ` 1+2 는 수식` \n",
    "    - `a=1+2는 문구`"
   ]
  },
  {
   "cell_type": "markdown",
   "metadata": {},
   "source": [
    "### Statements\n",
    "- 어떤 무언가를 하라고 알려준다.\n",
    "\n",
    "|if/elif/else|global|\n",
    "|:---:|:---:|\n",
    "|for/else|nonlocal|\n",
    "|while/else|import|\n",
    "|pass|from|\n",
    "|break|class|\n",
    "|continue|del|\n",
    "|def|...|\n",
    "|return|...|\n",
    "|yield|...|"
   ]
  },
  {
   "cell_type": "markdown",
   "metadata": {},
   "source": [
    "### Expressions\n",
    "- 객체를 생성하고 다룬다.\n",
    "\n",
    "- `x+y, x>y, x*5, x/2` ..."
   ]
  },
  {
   "cell_type": "markdown",
   "metadata": {},
   "source": [
    "- [코드 단위인 Expression과 Statement의 차이를 알아보자](https://shoark7.github.io/programming/knowledge/expression-vs-statement)"
   ]
  }
 ],
 "metadata": {
  "language_info": {
   "name": "python"
  }
 },
 "nbformat": 4,
 "nbformat_minor": 2
}
