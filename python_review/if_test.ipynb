{
 "cells": [
  {
   "cell_type": "markdown",
   "metadata": {},
   "source": [
    "## if_Test (if 조건문)\n",
    "- 컴퓨터한테 조건문을 주고 조건이 충족되었을 때 특정 문구를 실행\n",
    "    ```python\n",
    "    if 조건문1:\n",
    "        statement1\n",
    "    elif 조건문2:\n",
    "        statement2\n",
    "    else:\n",
    "        statement3\n",
    "    ```"
   ]
  },
  {
   "cell_type": "code",
   "execution_count": 1,
   "metadata": {},
   "outputs": [
    {
     "name": "stdout",
     "output_type": "stream",
     "text": [
      "else test has passed\n",
      "outside if test\n"
     ]
    }
   ],
   "source": [
    "x = 100\n",
    "y = 10\n",
    "z = 1\n",
    "\n",
    "if y > x:\n",
    "    print('if test has passed')\n",
    "elif z > y:\n",
    "    print('elif test has passed')\n",
    "else:\n",
    "    print('else test has passed')\n",
    "\n",
    "print('outside if test')"
   ]
  },
  {
   "cell_type": "code",
   "execution_count": 2,
   "metadata": {},
   "outputs": [
    {
     "name": "stdout",
     "output_type": "stream",
     "text": [
      "if test has passed\n",
      "outside if test\n"
     ]
    }
   ],
   "source": [
    "x = 10\n",
    "y = 100\n",
    "z = 1\n",
    "\n",
    "if y > x:\n",
    "    print('if test has passed')\n",
    "elif z > y:\n",
    "    print('elif test has passed')\n",
    "else:\n",
    "    print('else test has passed')\n",
    "\n",
    "print('outside if test')"
   ]
  },
  {
   "cell_type": "code",
   "execution_count": 3,
   "metadata": {},
   "outputs": [
    {
     "name": "stdout",
     "output_type": "stream",
     "text": [
      "elif test has passed\n",
      "outside if test\n"
     ]
    }
   ],
   "source": [
    "x = 10\n",
    "y = 1\n",
    "z = 100\n",
    "\n",
    "if y > x:\n",
    "    print('if test has passed')\n",
    "elif z > y:\n",
    "    print('elif test has passed')\n",
    "else:\n",
    "    print('else test has passed')\n",
    "\n",
    "print('outside if test')"
   ]
  },
  {
   "cell_type": "markdown",
   "metadata": {},
   "source": [
    "### elif가 필요없을 때 (없어도 사용가능)"
   ]
  },
  {
   "cell_type": "code",
   "execution_count": 4,
   "metadata": {},
   "outputs": [
    {
     "name": "stdout",
     "output_type": "stream",
     "text": [
      "else test has passed\n",
      "outside if test\n"
     ]
    }
   ],
   "source": [
    "x = 100\n",
    "y = 10\n",
    "\n",
    "if y > x:\n",
    "    print('if test has passed')\n",
    "else:\n",
    "    print('else test has passed')\n",
    "\n",
    "print('outside if test')"
   ]
  },
  {
   "cell_type": "code",
   "execution_count": 5,
   "metadata": {},
   "outputs": [
    {
     "name": "stdout",
     "output_type": "stream",
     "text": [
      "if test has passed\n",
      "outside if test\n"
     ]
    }
   ],
   "source": [
    "x = 10\n",
    "y = 100\n",
    "\n",
    "if y > x:\n",
    "    print('if test has passed')\n",
    "else:\n",
    "    print('else test has passed')\n",
    "\n",
    "print('outside if test')"
   ]
  },
  {
   "cell_type": "markdown",
   "metadata": {},
   "source": [
    "\n",
    "|if 조건문| -> |if 테스트 문구| -> | if test |\n",
    "|:---:|:---:|:---:|:---:|:---:|\n",
    "|elif 조건문| -> |elif 테스트 문구| -> | if test |\n",
    "|else 조건문| -> |else 테스트 문구| -> | if test |\n",
    "\n",
    "- elif가 없을 때\n",
    "\n",
    "|if 조건문| -> |if 테스트 문구| -> | if test |\n",
    "|:---:|:---:|:---:|:---:|:---:|\n",
    "|else 조건문| -> |else 테스트 문구| -> | if test |"
   ]
  },
  {
   "cell_type": "markdown",
   "metadata": {},
   "source": [
    "### True, False"
   ]
  },
  {
   "cell_type": "code",
   "execution_count": 6,
   "metadata": {},
   "outputs": [
    {
     "name": "stdout",
     "output_type": "stream",
     "text": [
      "true\n",
      "true\n",
      "true\n",
      "true\n"
     ]
    }
   ],
   "source": [
    "if 1: print('true')\n",
    "if 100: print('true')\n",
    "if 'spam': print('true')\n",
    "if [100, 200, 300]: print('true')"
   ]
  },
  {
   "cell_type": "code",
   "execution_count": 10,
   "metadata": {},
   "outputs": [],
   "source": [
    "# False로 인식됨 = 출력없음\n",
    "if 0: print('true') \n",
    "if '': print('true')\n",
    "if []: print('true')\n",
    "if {}: print('true')"
   ]
  },
  {
   "cell_type": "code",
   "execution_count": 8,
   "metadata": {},
   "outputs": [
    {
     "name": "stdout",
     "output_type": "stream",
     "text": [
      "true\n",
      "true\n",
      "true\n",
      "true\n"
     ]
    }
   ],
   "source": [
    "if not 0: print('true')\n",
    "if not '': print('true')\n",
    "if not []: print('true')\n",
    "if not {}: print('true')"
   ]
  },
  {
   "cell_type": "markdown",
   "metadata": {},
   "source": [
    "### and vs or\n",
    "- and: 두 조건이 모두 참일 때 참\n",
    "    - 컴퓨터는 and을 왼쪽부터 오른쪽으로 하나씩 보면서 첫번째 False가 나오면 끝, 두 개 다 True가 나와도 끝\n",
    "- or: 두 조건 중 하나라도 참이면 참\n",
    "    - 컴퓨터는 or을 왼쪽부터 오른쪽으로 하나씩 보면서 첫번째 True가 나오면 끝"
   ]
  },
  {
   "cell_type": "code",
   "execution_count": 14,
   "metadata": {},
   "outputs": [
    {
     "name": "stdout",
     "output_type": "stream",
     "text": [
      "3\n",
      "2\n",
      "[]\n",
      "[]\n",
      "[]\n"
     ]
    }
   ],
   "source": [
    "print(2 and 3)\n",
    "print(3 and 2)\n",
    "print([] and 2)\n",
    "print(2 and [])\n",
    "print([ ] and '')"
   ]
  },
  {
   "cell_type": "code",
   "execution_count": 12,
   "metadata": {},
   "outputs": [
    {
     "name": "stdout",
     "output_type": "stream",
     "text": [
      "2\n",
      "3\n",
      "2\n",
      "\n",
      "[]\n"
     ]
    }
   ],
   "source": [
    "print(2 or 3)\n",
    "print(3 or 2)\n",
    "print([] or 2)\n",
    "print([] or '') # 왼쪽부터 비어있어서 아무것도 나오지 않음\n",
    "print('' or [])"
   ]
  },
  {
   "cell_type": "markdown",
   "metadata": {},
   "source": [
    "### indentation\n",
    "```python\n",
    "if 조건문 1:\n",
    "    if 조건문 2:\n",
    "        statement1\n",
    "    elif 조건문 3:\n",
    "        statement2\n",
    "    else:\n",
    "        statement3\n",
    "elif 조건문 4:\n",
    "    if 조건문 5:\n",
    "        statement4\n",
    "    elif 조건문 6:\n",
    "        statement5\n",
    "    else:\n",
    "        statement6\n",
    "else:\n",
    "    statement7\n",
    "```"
   ]
  }
 ],
 "metadata": {
  "kernelspec": {
   "display_name": "algorithm",
   "language": "python",
   "name": "python3"
  },
  "language_info": {
   "codemirror_mode": {
    "name": "ipython",
    "version": 3
   },
   "file_extension": ".py",
   "mimetype": "text/x-python",
   "name": "python",
   "nbconvert_exporter": "python",
   "pygments_lexer": "ipython3",
   "version": "3.11.9"
  }
 },
 "nbformat": 4,
 "nbformat_minor": 2
}
