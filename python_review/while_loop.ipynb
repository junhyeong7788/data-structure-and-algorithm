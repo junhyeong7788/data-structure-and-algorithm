{
 "cells": [
  {
   "cell_type": "markdown",
   "metadata": {},
   "source": [
    "## While Loop (while 문)\n",
    "- 가장 위에 있는 문구가 True일 동안 반복적으로 밑에서 문구들을 실행시킨다. `(반복문)`\n",
    "- 위에 조건이 False가 되면 loop에서 나간다.\n",
    "\n",
    "```python\n",
    "while test:\n",
    "    statements\n",
    "else:\n",
    "    statements\n",
    "```\n",
    "- 루프는 지정된 공간을 반복하는 것\n",
    "\n",
    "### infinite loop (무한 루프)\n",
    "- 무한 루프는 루프가 끝나지 않는 루프이다.\n",
    "```python\n",
    "while true:\n",
    "    print('infinity loop')\n",
    "```\n",
    "- stack overflow를 방지하기 위해 무한 루프를 사용할 때는 주의해야 한다."
   ]
  },
  {
   "cell_type": "code",
   "execution_count": 2,
   "metadata": {},
   "outputs": [
    {
     "name": "stdout",
     "output_type": "stream",
     "text": [
      "머신러닝\n",
      "신러닝\n",
      "러닝\n",
      "닝\n",
      "outside while loop\n"
     ]
    }
   ],
   "source": [
    "X = '머신러닝'\n",
    "\n",
    "while X: # X가 존재한다면 비어있는 문자가 될때까지\n",
    "    print(X)  # while x!=\" 와 같은 테스트\n",
    "    X = X[1:] \n",
    "\n",
    "print('outside while loop')"
   ]
  },
  {
   "cell_type": "code",
   "execution_count": 3,
   "metadata": {},
   "outputs": [
    {
     "name": "stdout",
     "output_type": "stream",
     "text": [
      "머신러닝\n",
      "신러닝\n",
      "러닝\n",
      "닝\n",
      "outside while loop\n"
     ]
    }
   ],
   "source": [
    "X = '머신러닝'\n",
    "\n",
    "while X != '': # 위와 같은 결과값\n",
    "    print(X)  \n",
    "    X = X[1:] \n",
    "\n",
    "print('outside while loop')"
   ]
  },
  {
   "cell_type": "code",
   "execution_count": 5,
   "metadata": {},
   "outputs": [
    {
     "name": "stdout",
     "output_type": "stream",
     "text": [
      "로켓발사 5 초전\n",
      "로켓발사 4 초전\n",
      "로켓발사 3 초전\n",
      "로켓발사 2 초전\n",
      "로켓발사 1 초전\n"
     ]
    }
   ],
   "source": [
    "x = 5\n",
    "\n",
    "while x:\n",
    "    print('로켓발사 {} 초전'.format(x))\n",
    "    x -= 1"
   ]
  },
  {
   "cell_type": "code",
   "execution_count": 6,
   "metadata": {},
   "outputs": [
    {
     "name": "stdout",
     "output_type": "stream",
     "text": [
      "5\n",
      "4\n",
      "3\n",
      "2\n",
      "1\n"
     ]
    }
   ],
   "source": [
    "a = 0; b = 5\n",
    "\n",
    "while a < b:\n",
    "    print(b)\n",
    "    b -= 1"
   ]
  },
  {
   "cell_type": "markdown",
   "metadata": {},
   "source": [
    "### 한 단어 문구\n",
    "- break: 루프를 빠져나온다.\n",
    "    \n",
    "- continue: 루프의 다음 반복으로 넘어간다.\n",
    "    ```python\n",
    "    x = 10\n",
    "    while x:\n",
    "        x = x - 1\n",
    "        if x % 2 != 0: # skip odd numbers\n",
    "            continue # 만약 10도 print하고 싶다면 어떻게 해야할까?\n",
    "        print(x)\n",
    "    ```\n",
    "- pass: 아무것도 하지 않는다. (placeholder로 사용)\n",
    "    ```python\n",
    "    while True:\n",
    "        pass\n",
    "    ```"
   ]
  },
  {
   "cell_type": "code",
   "execution_count": 3,
   "metadata": {},
   "outputs": [
    {
     "name": "stdout",
     "output_type": "stream",
     "text": [
      "5\n",
      "4\n",
      "You have 4 times left to try.\n",
      "4\n",
      "3\n",
      "You have 3 times left to try.\n",
      "3\n",
      "2\n",
      "Your password is correct.\n"
     ]
    }
   ],
   "source": [
    "# break\n",
    "a = 5\n",
    "secret_pw = 'secret'\n",
    "while a:\n",
    "    print(a)\n",
    "    a -= 1\n",
    "    print(a)\n",
    "    pw = input('What is your password: ')\n",
    "    if pw == secret_pw:\n",
    "        print('Your password is correct.')\n",
    "        break\n",
    "    print(f'You have {a} times left to try.')\n",
    "else:\n",
    "    print('failed to log in')\n",
    "\n",
    "# else 는 while loop 를 나가는 또 다른 방법.\n",
    "# extra if 와 같다.\n",
    "#if not a:\n",
    "    #print('failed to log in')"
   ]
  },
  {
   "cell_type": "code",
   "execution_count": 9,
   "metadata": {},
   "outputs": [
    {
     "name": "stdout",
     "output_type": "stream",
     "text": [
      "8\n",
      "6\n",
      "4\n",
      "2\n",
      "0\n"
     ]
    }
   ],
   "source": [
    "x = 10\n",
    "while x:\n",
    "    x = x - 1\n",
    "    if x % 2 != 0: # skip odd numbers\n",
    "        continue # 만약 10도 print하고 싶다면 어떻게 해야할까?\n",
    "    print(x)"
   ]
  },
  {
   "cell_type": "markdown",
   "metadata": {},
   "source": [
    "- while문구는 될 수 있으면 안쓰는 게 좋다.\n",
    "- for문구를 사용하는 것이 더 효율적이다.(빠르다)"
   ]
  },
  {
   "cell_type": "code",
   "execution_count": null,
   "metadata": {},
   "outputs": [],
   "source": []
  }
 ],
 "metadata": {
  "kernelspec": {
   "display_name": "algorithm",
   "language": "python",
   "name": "python3"
  },
  "language_info": {
   "codemirror_mode": {
    "name": "ipython",
    "version": 3
   },
   "file_extension": ".py",
   "mimetype": "text/x-python",
   "name": "python",
   "nbconvert_exporter": "python",
   "pygments_lexer": "ipython3",
   "version": "3.11.9"
  }
 },
 "nbformat": 4,
 "nbformat_minor": 2
}
