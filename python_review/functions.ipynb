{
 "cells": [
  {
   "cell_type": "markdown",
   "metadata": {},
   "source": [
    "## Function (함수)\n",
    "- 반복적으로 쓰이는 문구들을 구성해놓는 장치이다.\n",
    "- 코드를 재활용한다.\n",
    "- 쓸떼없이 코드가 중복되는 것을 최소화한다.\n",
    "- 시스템을 여러가지 함수로 나누어 역할을 나누어준다.\n",
    "\n",
    "- ex) 자동차\n",
    "    - 엔진함수, 바퀴함수, 바디프레임 함수 등\n",
    "    - 여러가지 함수로 나누어 관리가 가능하다.\n",
    "\n",
    "### def 문구로 함수를 만든다.\n",
    "```python\n",
    "def 함수명(매개변수1, 매개변수2, ..., 매개변수n):\n",
    "    statements\n",
    "    return 값\n",
    "```"
   ]
  },
  {
   "cell_type": "code",
   "execution_count": 3,
   "metadata": {},
   "outputs": [
    {
     "name": "stdout",
     "output_type": "stream",
     "text": [
      "3\n",
      "파이썬리뷰\n",
      "[1, 2, 3, 4, 5]\n",
      "<class 'function'>\n"
     ]
    }
   ],
   "source": [
    "# 함수 또한 객체이다.\n",
    "# adder.__class__\n",
    "def adder(a, b):\n",
    "    return a + b\n",
    "\n",
    "# 내장함수처럼 사용가능\n",
    "print(adder(1,2))\n",
    "print(adder('파이썬', '리뷰'))\n",
    "print(adder([1,2,3],[4,5]))\n",
    "print(adder.__class__)\n"
   ]
  },
  {
   "cell_type": "markdown",
   "metadata": {},
   "source": [
    "### 함수 작동 방법\n",
    "```python\n",
    "def add(a, b):\n",
    "    return a + b\n",
    "print(add(1, 2))\n",
    "```\n",
    "1. 인스턴스 객체 생성\n",
    "\n",
    "|function class 객체 |--->|function class instance 객체 생성|\n",
    "|:---:|:---:|:---:|\n",
    "\n",
    "2. 변수 생성\n",
    "- add 변수 생성\n",
    "\n",
    "3. 변수와 객체 연결\n",
    "\n",
    "|function class 객체 |--->|function class instance 객체 생성|\n",
    "|:---:|:---:|:---:|\n",
    "|add 변수|--->|function class instance 객체 연결|\n",
    "\n",
    "4. 함수 객체 호출 및 결과 값 리턴\n",
    "\n",
    "### 만약에 리턴 문구가 없다면?\n",
    "- 리턴할게 없으니 None을 리턴한다.\n"
   ]
  },
  {
   "cell_type": "markdown",
   "metadata": {},
   "source": [
    "### 함수에 다른 이름을 주고 싶다면?\n"
   ]
  },
  {
   "cell_type": "code",
   "execution_count": 4,
   "metadata": {},
   "outputs": [
    {
     "name": "stdout",
     "output_type": "stream",
     "text": [
      "3\n",
      "파이썬리뷰\n",
      "[1, 2, 3, 4, 5]\n",
      "<class 'function'>\n"
     ]
    }
   ],
   "source": [
    "def adder(a, b):\n",
    "    return a + b\n",
    "\n",
    "happy = adder\n",
    "print(happy(1,2))\n",
    "print(happy('파이썬', '리뷰'))\n",
    "print(happy([1,2,3],[4,5]))\n",
    "print(happy.__class__)\n"
   ]
  },
  {
   "cell_type": "markdown",
   "metadata": {},
   "source": [
    "### 기존 이름을 바꾼다면? (개발자들 화남)\n",
    "```python\n",
    "def adder(a,b):\n",
    "    return a + b\n",
    "happy = adder\n",
    "adder = None\n",
    "```\n",
    "\n",
    "### 기존 이름을 지운다면? (개발자들 화남)\n",
    "```python\n",
    "def adder(a,b):\n",
    "    return a + b\n",
    "happy = adder\n",
    "del adder\n",
    "```"
   ]
  },
  {
   "cell_type": "markdown",
   "metadata": {},
   "source": [
    "### Call(호출) "
   ]
  },
  {
   "cell_type": "code",
   "execution_count": 5,
   "metadata": {},
   "outputs": [
    {
     "name": "stdout",
     "output_type": "stream",
     "text": [
      "300\n"
     ]
    }
   ],
   "source": [
    "def adder(a,b):\n",
    "    return a+b\n",
    "    # a + b -> 반환값이 없어 None이 출력\n",
    "\n",
    "x = adder(100, 200)\n",
    "print(x)"
   ]
  },
  {
   "cell_type": "markdown",
   "metadata": {},
   "source": [
    "### 매개변수가 없는 함수"
   ]
  },
  {
   "cell_type": "code",
   "execution_count": 7,
   "metadata": {},
   "outputs": [
    {
     "name": "stdout",
     "output_type": "stream",
     "text": [
      "30\n"
     ]
    }
   ],
   "source": [
    "def adder():\n",
    "    return 10 + 20\n",
    "\n",
    "x = adder()\n",
    "print(x)"
   ]
  },
  {
   "cell_type": "markdown",
   "metadata": {},
   "source": [
    " ### 매개변수 순서\n"
   ]
  },
  {
   "cell_type": "code",
   "execution_count": 8,
   "metadata": {},
   "outputs": [
    {
     "data": {
      "text/plain": [
       "'다나가!'"
      ]
     },
     "execution_count": 8,
     "metadata": {},
     "output_type": "execute_result"
    }
   ],
   "source": [
    "def adder(a, b, c, d):\n",
    "    return d + c + b + a\n",
    "adder('!','가','나','다')"
   ]
  },
  {
   "cell_type": "markdown",
   "metadata": {},
   "source": [
    "### Default 매개변수"
   ]
  },
  {
   "cell_type": "code",
   "execution_count": 9,
   "metadata": {},
   "outputs": [
    {
     "name": "stdout",
     "output_type": "stream",
     "text": [
      "1000\n",
      "10\n",
      "506\n"
     ]
    }
   ],
   "source": [
    "def adder(a = 100, b = 200, c = 300, d = 400):\n",
    "    return a + b + c + d\n",
    "\n",
    "print(adder())\n",
    "print(adder(1, 2, 3, 4))\n",
    "print(adder(1, d = 5))"
   ]
  }
 ],
 "metadata": {
  "kernelspec": {
   "display_name": "algorithm",
   "language": "python",
   "name": "python3"
  },
  "language_info": {
   "codemirror_mode": {
    "name": "ipython",
    "version": 3
   },
   "file_extension": ".py",
   "mimetype": "text/x-python",
   "name": "python",
   "nbconvert_exporter": "python",
   "pygments_lexer": "ipython3",
   "version": "3.11.9"
  }
 },
 "nbformat": 4,
 "nbformat_minor": 2
}
