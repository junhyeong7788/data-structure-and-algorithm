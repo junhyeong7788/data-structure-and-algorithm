{
 "cells": [
  {
   "cell_type": "markdown",
   "metadata": {},
   "source": [
    "## Sets(세트)\n",
    "- 중괄호 {}안에 객체들을 랜덤 순서대로 모아 놓은 객체\n",
    "- 세트 안에 있는 객체들은 `중복` 될 수 없다. 또한 `수정 불가능한 데이터`만 저장 가능하다.\n",
    "- 간단하게 딕셔너리의 key들만 모아놓았다 보면 됨"
   ]
  },
  {
   "cell_type": "markdown",
   "metadata": {},
   "source": [
    "- 세트는 중복 될 수 없기에 리스트에 중복된 객체가 많을때 세트로 바꿔주면 유용하다."
   ]
  },
  {
   "cell_type": "code",
   "execution_count": 2,
   "metadata": {},
   "outputs": [
    {
     "name": "stdout",
     "output_type": "stream",
     "text": [
      "[1, 2, 3, 4, 5]\n"
     ]
    }
   ],
   "source": [
    "L = [1,2,2,3,3,3,4,4,4,4,5,5,5,5,5]\n",
    "L = list(set(L)) # list 변환\n",
    "print(L)"
   ]
  },
  {
   "cell_type": "code",
   "execution_count": 3,
   "metadata": {},
   "outputs": [
    {
     "name": "stdout",
     "output_type": "stream",
     "text": [
      "{'j', 'n', 'u'}\n"
     ]
    }
   ],
   "source": [
    "S = set('jjjjuuuunnnn')\n",
    "print(S)"
   ]
  },
  {
   "cell_type": "markdown",
   "metadata": {},
   "source": [
    "- 반복이 가능한 객체에만 사용가능"
   ]
  },
  {
   "cell_type": "code",
   "execution_count": 7,
   "metadata": {},
   "outputs": [
    {
     "name": "stdout",
     "output_type": "stream",
     "text": [
      "{'4'}\n",
      "{5}\n"
     ]
    }
   ],
   "source": [
    "S = set('4')\n",
    "S1 = set([5])\n",
    "# S2 = set(5) - 에러 발생\n",
    "\n",
    "print(S)\n",
    "print(S1)"
   ]
  },
  {
   "cell_type": "markdown",
   "metadata": {},
   "source": []
  },
  {
   "cell_type": "code",
   "execution_count": null,
   "metadata": {},
   "outputs": [],
   "source": []
  }
 ],
 "metadata": {
  "kernelspec": {
   "display_name": "algorithm",
   "language": "python",
   "name": "python3"
  },
  "language_info": {
   "codemirror_mode": {
    "name": "ipython",
    "version": 3
   },
   "file_extension": ".py",
   "mimetype": "text/x-python",
   "name": "python",
   "nbconvert_exporter": "python",
   "pygments_lexer": "ipython3",
   "version": "3.11.9"
  }
 },
 "nbformat": 4,
 "nbformat_minor": 2
}
