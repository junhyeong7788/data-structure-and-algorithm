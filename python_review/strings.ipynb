{
 "cells": [
  {
   "cell_type": "markdown",
   "metadata": {},
   "source": [
    "## Strings (문자열)\n",
    "- 말 그대로 문자를 담고 있는 데이터\n",
    "- Str class 객체 -> Str class 인스턴스 객체들\n",
    "\n",
    "- 문자열의 객체는 `바뀌지 않는 열(immutabel sequence)`이다.\n",
    "\n",
    "### 문자열의 열 (sequence) 특징\n",
    "'안녕하세요' -> '안' '녕' '하' '세' '요'\n",
    "\n",
    "```python\n",
    "X = '안녕하세요'\n",
    "print(X[0]) # '안'\n",
    "print(X[4]) # '요'\n",
    "len(X) # 5\n",
    "```\n",
    "\n",
    "- 문자 하나하나를 왼쪽에서 오른쪽으로 하나씩 저장된다."
   ]
  },
  {
   "cell_type": "code",
   "execution_count": 2,
   "metadata": {},
   "outputs": [
    {
     "name": "stdout",
     "output_type": "stream",
     "text": [
      "Craftsman's\n",
      "\n",
      "Craftsman Mentality\n",
      "multi line\n",
      "quotation\n",
      "\n"
     ]
    }
   ],
   "source": [
    "S = 'Craftsman\\'s'\n",
    "print(S)\n",
    "\n",
    "D = \"\"\"\n",
    "Craftsman Mentality\n",
    "multi line\n",
    "quotation\n",
    "\"\"\"\n",
    "print(D)"
   ]
  },
  {
   "cell_type": "code",
   "execution_count": 3,
   "metadata": {},
   "outputs": [
    {
     "name": "stdout",
     "output_type": "stream",
     "text": [
      "Craftman's age is : 30\n"
     ]
    }
   ],
   "source": [
    "age = 30\n",
    "S = f'Craftman\\'s age is : {age}' \n",
    "print(S)"
   ]
  },
  {
   "cell_type": "markdown",
   "metadata": {},
   "source": [
    "### Strings(문자열) Operations (연산)\n",
    "\n",
    "'가나다라'+'마바사'\n",
    "- 1단계 : 인스턴스 생성\n",
    "    | '가나다라' + '마바사' | --- | --- | --- |\n",
    "    |:---:|:---:|:---:|:---:|\n",
    "    | Str class 객체 | Str class 인스턴스 객체 | \"가나다라\" | Counter = 0 |\n",
    "    | Str class 객체 | Str class 인스턴스 객체 | \"마바사\" | Counter = 0 |\n",
    "\n",
    "- 2단계 : 연산하기\n",
    "    | '가나다라' + '마바사' | --- | --- | --- |\n",
    "    |:---:|:---:|:---:|:---:|\n",
    "    | Str class 객체 | Str class 인스턴스 객체 | \"가나다라\" | Counter = 0 |\n",
    "    | Str class 객체 | Str class 인스턴스 객체 | \"마바사\" | Counter = 0 |\n",
    "    | --- | 새로운 `Str class 인스턴스 객체` 생성 | \"가나다라마바사\" | Counter = 0 |\n",
    "    - Garbage Collector이 Counter가 0인 Str class 인스턴스 객체를 메모리(\"가나다라\", \"마바사\")에서 제거한다.\n",
    "    - '가나다라'인스턴스를 변경하는게 아니다.\n",
    "    - '가나다라마바사' 인스턴스를 새롭게 생성하는 것이다. `이유: 문자열은 수정 불가하기 때문이다.`\n",
    "\n",
    "    '가나다라!' * 4\n",
    "    - 1단계 : 인스턴스 생성 및 연산\n",
    "        | '가나다라!' * 4 | --- | --- | --- |\n",
    "        |:---:|:---:|:---:|:---:|\n",
    "        | Str class 객체 | Str class 인스턴스 객체 | \"가나다라\" | Counter = 0 |\n",
    "        | Str class 객체 | 새로운 `Str class 인스턴스 객체` 생성 | `가나다라!가나다라!가나다라!가나다라' | Counter = 0 |\n",
    "\n",
    "    - 2단계 : 쓰레기 청소\n",
    "        - Garbage Collector이 Counter가 0인 Str class 인스턴스 객체를 메모리(\"가나다라!\")에서 제거한다."
   ]
  },
  {
   "cell_type": "code",
   "execution_count": 11,
   "metadata": {},
   "outputs": [
    {
     "name": "stdout",
     "output_type": "stream",
     "text": [
      "hello hello hello hello hello hello hello hello \n"
     ]
    }
   ],
   "source": [
    "S = 'hello '\n",
    "print(S * 8)\n"
   ]
  },
  {
   "cell_type": "code",
   "execution_count": 14,
   "metadata": {},
   "outputs": [
    {
     "name": "stdout",
     "output_type": "stream",
     "text": [
      "가나다라마바사\n",
      "가나다라!가나다라!가나다라!가나다라!\n"
     ]
    }
   ],
   "source": [
    "S = '가나다라' + '마바사'\n",
    "print(S)\n",
    "print('가나다라!' * 4)"
   ]
  },
  {
   "cell_type": "markdown",
   "metadata": {},
   "source": [
    "### Polymorphism (다항성)\n",
    "\n",
    "| '가나다라' + '마바사' |\n",
    "|:---:|\n",
    "|'가나다라!' * 4 |\n",
    "| vs |\n",
    "| 100 + 300 |\n",
    "| 100 * 4 |\n",
    "\n",
    "Q : '가나다라' + 100 은 결과값이 어떻게 될까?\n"
   ]
  },
  {
   "cell_type": "code",
   "execution_count": 5,
   "metadata": {},
   "outputs": [
    {
     "name": "stdout",
     "output_type": "stream",
     "text": [
      "가나다라가나다라가나다라가나다라가나다라가나다라가나다라가나다라가나다라가나다라\n",
      "True\n"
     ]
    }
   ],
   "source": [
    "S = '가나다라' * 10\n",
    "print(S)\n",
    "print('가나다라' * 10 == S)"
   ]
  },
  {
   "cell_type": "markdown",
   "metadata": {},
   "source": [
    "### Strings (문자열) `in` test\n",
    "\n",
    "- '가' in '가나다라' \n",
    "- '가다' in '가나다라' # False\n",
    "    - '가다' in '가나다라'  \n",
    "    -> 문자 하나하나를 왼쪽에서 오른쪽으로 하나씩 저장한다. 즉, '가','다' 사이에 '나'가 있으므로 False이다.\n",
    "- '나다' in '가나다라'\n"
   ]
  },
  {
   "cell_type": "code",
   "execution_count": 6,
   "metadata": {},
   "outputs": [
    {
     "name": "stdout",
     "output_type": "stream",
     "text": [
      "True\n",
      "False\n",
      "True\n"
     ]
    }
   ],
   "source": [
    "print('가' in '가나다라' )\n",
    "print('가다' in '가나다라') \n",
    "print('나다' in '가나다라')"
   ]
  },
  {
   "cell_type": "markdown",
   "metadata": {},
   "source": [
    "### Strings (문자열) Indexing"
   ]
  },
  {
   "cell_type": "code",
   "execution_count": 7,
   "metadata": {},
   "outputs": [
    {
     "name": "stdout",
     "output_type": "stream",
     "text": [
      "가\n",
      "라\n",
      "라\n",
      "가\n"
     ]
    }
   ],
   "source": [
    "S = '가나다라'\n",
    "print(S[0])\n",
    "print(S[3])\n",
    "print(S[-1])\n",
    "print(S[-4])"
   ]
  },
  {
   "cell_type": "markdown",
   "metadata": {},
   "source": [
    "### Strings (문자열) Slicing"
   ]
  },
  {
   "cell_type": "code",
   "execution_count": 9,
   "metadata": {},
   "outputs": [
    {
     "name": "stdout",
     "output_type": "stream",
     "text": [
      "나다\n",
      "나다라마바사\n",
      "가나다라마바\n",
      "가\n",
      "나라바\n",
      "가다마사\n"
     ]
    }
   ],
   "source": [
    "S = '가나다라마바사'\n",
    "print(S[1:3])\n",
    "print(S[1:])\n",
    "print(S[:-1])\n",
    "print(S[-7])\n",
    "print(S[1:-1:2])\n",
    "print(S[::2])"
   ]
  },
  {
   "cell_type": "markdown",
   "metadata": {},
   "source": [
    "### Strings 전환"
   ]
  },
  {
   "cell_type": "code",
   "execution_count": 17,
   "metadata": {},
   "outputs": [
    {
     "name": "stdout",
     "output_type": "stream",
     "text": [
      "400\n",
      "100300\n"
     ]
    }
   ],
   "source": [
    "print(int('100') + 300)\n",
    "print('100'+ str(300))\n"
   ]
  },
  {
   "cell_type": "markdown",
   "metadata": {},
   "source": [
    "### strings은 수정 불가능한 열(Sequnce)"
   ]
  },
  {
   "cell_type": "code",
   "execution_count": 20,
   "metadata": {},
   "outputs": [
    {
     "data": {
      "text/plain": [
       "\"\\n---------------------------------------------------------------------------\\nTypeError                                 Traceback (most recent call last)\\nCell In[18], line 2\\n      1 S = '가나다라마바사'\\n----> 2 S[0] = '아'\\n\\nTypeError: 'str' object does not support item assignment\\n\""
      ]
     },
     "execution_count": 20,
     "metadata": {},
     "output_type": "execute_result"
    }
   ],
   "source": [
    "S = '가나다라마바사'\n",
    "# S[0] = '아' - error\n",
    "'''\n",
    "---------------------------------------------------------------------------\n",
    "TypeError                                 Traceback (most recent call last)\n",
    "Cell In[18], line 2\n",
    "      1 S = '가나다라마바사'\n",
    "----> 2 S[0] = '아'\n",
    "\n",
    "TypeError: 'str' object does not support item assignment\n",
    "'''"
   ]
  },
  {
   "cell_type": "code",
   "execution_count": 21,
   "metadata": {},
   "outputs": [
    {
     "name": "stdout",
     "output_type": "stream",
     "text": [
      "캐나다라마바사\n"
     ]
    }
   ],
   "source": [
    "S = '가나다라마바사'\n",
    "newS = '캐' + S[1:]\n",
    "print(newS)"
   ]
  },
  {
   "cell_type": "markdown",
   "metadata": {},
   "source": [
    "### Definition\n",
    "```python\n",
    "(method) def replace(\n",
    "    old: LiteralString,\n",
    "    new: LiteralString,\n",
    "    count: SupportsIndex = -1,\n",
    "    /\n",
    ") -> LiteralString\n",
    "```\n",
    "- Python의 내장 메서드인 replace 함수에 대한 타입 힌트를 제공하는 코드\n",
    "    - `LiteralString : 문자열이나 바이트 문자열 리터럴 타입을 나타내는 타입 변수`\n",
    "    - LiteralString 타입 : 특정 리터럴 문자열 타입을 지원하는 경우. 반환값도 동일한 리터럴 문자열 타입으로 반환됨\n",
    "    - 일반 str타입 : 문자열 타입으로 replace가 호출될 때 반환값은 일반 str타입으로 반환됨\n",
    "\n",
    "### Definition으로 얻을 수 있는 것\n",
    "- 내장 함수 정의 : python 내장 함수가 어떻게 정의되어 있는지 확인할 수 있다.\n",
    "    - 이는 python 표준 라이브러리가 내부적으로 어떻게 구성되어 있는지 이해할 수 있다.\n",
    "- Python버전 호환성 : Python 3.13 이상에서만 사용할 수 있는 기능을 사용할 때, 이를 타입 힌트로 제한할 수 있다.\n",
    "    - 이를 통해 코드의 호환성을 높일 수 있다.\n",
    "- `python은 vscode definition (builtins.pyi) 보다 공식문서보는게 간결하고 이해하기 쉽다.`"
   ]
  },
  {
   "cell_type": "code",
   "execution_count": 25,
   "metadata": {},
   "outputs": [
    {
     "name": "stdout",
     "output_type": "stream",
     "text": [
      "캐나다라마바사\n"
     ]
    },
    {
     "data": {
      "text/plain": [
       "'가나다라마바사'"
      ]
     },
     "execution_count": 25,
     "metadata": {},
     "output_type": "execute_result"
    }
   ],
   "source": [
    "S = '캐나다라마바사'\n",
    "print(S)\n",
    "S.replace('캐','가')"
   ]
  },
  {
   "cell_type": "markdown",
   "metadata": {},
   "source": [
    "### Strings (문자열) Method\n",
    "- 문자열 객체 안에 있는 함수들 (`object.method(arguments)`)\n",
    "    | Str class 객체 | Str class 인스턴스 객체 | \"Hello\".replace(\"H, \"J\") |\n",
    "    |:---:|:---:|:---:|\n",
    "    | Str class 객체 | Str class 인스턴스 객체 | \"안녕하세요\".count('안녕') |\n",
    "    | Str class 객체 | Str class 인스턴스 객체 | \"안녕하세요\".index('안') |\n",
    "\n",
    "    - Str class 객체 : 문자열을 다루는 클래스\n",
    "    - Str class 인스턴스 객체 : 문자열을 다루는 클래스의 인스턴스 객체\n",
    "        - Str class 객체에 있는 함수을 사용하는 것"
   ]
  },
  {
   "cell_type": "code",
   "execution_count": 27,
   "metadata": {},
   "outputs": [
    {
     "name": "stdout",
     "output_type": "stream",
     "text": [
      "안녕 내 이름은\n"
     ]
    }
   ],
   "source": [
    "l1 = ['안녕', '내', '이름은']\n",
    "s1 = ' '.join(l1)\n",
    "print(s1)"
   ]
  },
  {
   "cell_type": "code",
   "execution_count": 28,
   "metadata": {},
   "outputs": [
    {
     "name": "stdout",
     "output_type": "stream",
     "text": [
      "qwer@gmail.com\n",
      "qwer@naver.com\n"
     ]
    }
   ],
   "source": [
    "email1 = 'qwer@gmail.com'\n",
    "email2 = email1.replace('gmail', 'naver')\n",
    "print(email1)\n",
    "print(email2)"
   ]
  },
  {
   "cell_type": "code",
   "execution_count": 32,
   "metadata": {},
   "outputs": [
    {
     "name": "stdout",
     "output_type": "stream",
     "text": [
      "qwer@gmail.com\n",
      "['qwer', 'gmail.com']\n",
      "qwer@gmail.com\n",
      "False\n",
      "True\n"
     ]
    }
   ],
   "source": [
    "email1 = 'qwer@gmail.com'\n",
    "email2 = email1.split('@')\n",
    "print(email1)\n",
    "print(email2)\n",
    "\n",
    "# 다시 연결\n",
    "email3 = '@'.join(email2)\n",
    "print(email3)\n",
    "\n",
    "print(email1 is email3)\n",
    "print(email1 == email3)"
   ]
  },
  {
   "cell_type": "code",
   "execution_count": 34,
   "metadata": {},
   "outputs": [
    {
     "name": "stdout",
     "output_type": "stream",
     "text": [
      "park@gmail.com\n",
      "park@gmail.com\n"
     ]
    }
   ],
   "source": [
    "name = 'park'\n",
    "symbol = '@'\n",
    "email = 'gmail.com'\n",
    "\n",
    "my_email1 = '{}{}{}'.format(name, symbol, email)\n",
    "print(my_email1)\n",
    "print(f'{name}{symbol}{email}')"
   ]
  }
 ],
 "metadata": {
  "kernelspec": {
   "display_name": "algorithm",
   "language": "python",
   "name": "python3"
  },
  "language_info": {
   "codemirror_mode": {
    "name": "ipython",
    "version": 3
   },
   "file_extension": ".py",
   "mimetype": "text/x-python",
   "name": "python",
   "nbconvert_exporter": "python",
   "pygments_lexer": "ipython3",
   "version": "3.11.9"
  }
 },
 "nbformat": 4,
 "nbformat_minor": 2
}
