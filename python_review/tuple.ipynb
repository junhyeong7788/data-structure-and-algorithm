{
 "cells": [
  {
   "cell_type": "markdown",
   "metadata": {},
   "source": [
    "## Tuple (튜플)\n",
    "- 괄호 () 안에 객체들을 왼쪽에서 오른쪽 순서대로 모아 놓은 객체\n",
    "    - `(1, 2, 3, 4, 5)`\n",
    "- 리스트와 비슷하지만, 한 번 생성된 튜플은 값을 변경할 수 없음\n",
    "- 한번 만들고 고치고 싶으면 새로 생성해야 함"
   ]
  },
  {
   "cell_type": "code",
   "execution_count": 1,
   "metadata": {},
   "outputs": [
    {
     "name": "stdout",
     "output_type": "stream",
     "text": [
      "()\n",
      "(1, 2, 3)\n",
      "('abcd', 100, 1.23)\n",
      "[([1, 2, 3], [4, 5, 6], [7, 8, 9])]\n",
      "(1, 2, {'name': 'jun'}, (3, 4, 5), [100, 200, 300, ['nested', 'inner']])\n",
      "(40,)\n"
     ]
    }
   ],
   "source": [
    "T = ()\n",
    "T1 = 1, 2, 3 # 괄호가  없어도, ',' (콤마)만 있으면 튜플로 인식\n",
    "T2 = ('abcd', 100, 1.23)\n",
    "T3 = [([1,2,3], [4,5,6], [7,8,9])]\n",
    "T4 = (1,2,{'name' : 'jun'}, (3,4,5), [100, 200, 300,['nested', 'inner']])\n",
    "T5 = (40,)\n",
    "\n",
    "print(T)\n",
    "print(T1)\n",
    "print(T2)\n",
    "print(T3)\n",
    "print(T4)\n",
    "print(T5)"
   ]
  },
  {
   "cell_type": "code",
   "execution_count": 4,
   "metadata": {},
   "outputs": [
    {
     "name": "stdout",
     "output_type": "stream",
     "text": [
      "<class 'tuple'>\n",
      "<class 'str'>\n"
     ]
    }
   ],
   "source": [
    "# 괄호 안에 연산이 가능하기 때문에 객체 하나만 튜플에 넣고 싶다면 콤마를 찍어줘야함\n",
    "# 콤마를 안찍으면 그냥 integer 숫자로 인식\n",
    "T = ('hi',)\n",
    "t = ('hi')\n",
    "print(type(T))\n",
    "print(type(t))"
   ]
  },
  {
   "cell_type": "markdown",
   "metadata": {},
   "source": [
    "### tuple Operation(연산)"
   ]
  },
  {
   "cell_type": "code",
   "execution_count": 5,
   "metadata": {},
   "outputs": [
    {
     "name": "stdout",
     "output_type": "stream",
     "text": [
      "(1, 2, 3, 4, 5, 6)\n",
      "(1, 2, 3, 1, 2, 3, 1, 2, 3)\n"
     ]
    }
   ],
   "source": [
    "print((1,2,3) + (4,5,6))\n",
    "print((1,2,3) * 3)"
   ]
  },
  {
   "cell_type": "markdown",
   "metadata": {},
   "source": [
    "### Polymorhism (다형성)\n",
    "- 데이터가 어떤 형태인지에 따라 연산이 달라지는 것\n",
    "\n",
    "### tuple `in` test\n",
    "- `in` 연산자를 사용하여 tuple에 특정 값이 있는지 확인 가능\n",
    "\n",
    "### tuple indexing\n"
   ]
  },
  {
   "cell_type": "code",
   "execution_count": 13,
   "metadata": {},
   "outputs": [
    {
     "name": "stdout",
     "output_type": "stream",
     "text": [
      "100\n",
      "400\n",
      "400\n"
     ]
    },
    {
     "data": {
      "text/plain": [
       "100"
      ]
     },
     "execution_count": 13,
     "metadata": {},
     "output_type": "execute_result"
    }
   ],
   "source": [
    "T = (100, 200, 300, 400)\n",
    "print(T[0])\n",
    "print(T[3])\n",
    "print(T[-1])\n",
    "T[-4]"
   ]
  },
  {
   "cell_type": "markdown",
   "metadata": {},
   "source": [
    "### tuple slicing"
   ]
  },
  {
   "cell_type": "code",
   "execution_count": 14,
   "metadata": {},
   "outputs": [
    {
     "name": "stdout",
     "output_type": "stream",
     "text": [
      "(200, 300)\n",
      "(200, 300, 400, 500, 600, 700)\n",
      "(100, 200, 300, 400, 500, 600)\n",
      "200\n"
     ]
    }
   ],
   "source": [
    "T = (100, 200, 300, 400, 500, 600, 700)\n",
    "print(T[1:3])\n",
    "print(T[1:])\n",
    "print(T[:-1])\n",
    "print(T[-6])"
   ]
  },
  {
   "cell_type": "markdown",
   "metadata": {},
   "source": [
    "### tuple에서 lists 전환"
   ]
  },
  {
   "cell_type": "code",
   "execution_count": 17,
   "metadata": {},
   "outputs": [
    {
     "name": "stdout",
     "output_type": "stream",
     "text": [
      "[1, 2, 3, 4, 5]\n",
      "(1, 2, 3, 4, 5)\n"
     ]
    }
   ],
   "source": [
    "a = (1,2,3,4,5)\n",
    "print(list(a))\n",
    "print(tuple(a)) # 다시 튜플로 전환"
   ]
  },
  {
   "cell_type": "markdown",
   "metadata": {},
   "source": [
    "### tuple 은 수정 불가능한 열(Sequence)\n",
    "- List는 수정가능"
   ]
  },
  {
   "cell_type": "code",
   "execution_count": 18,
   "metadata": {},
   "outputs": [
    {
     "name": "stdout",
     "output_type": "stream",
     "text": [
      "['캐', '나', '다', '라', '마', '바', '사']\n",
      "['가', '나', '다', '라', '마', '바', '사']\n"
     ]
    }
   ],
   "source": [
    "L = list('가나다라마바사')\n",
    "L[0] = '캐'\n",
    "print(L)\n",
    "\n",
    "L = ['가'] + L[1:]\n",
    "print(L)"
   ]
  },
  {
   "cell_type": "code",
   "execution_count": 19,
   "metadata": {},
   "outputs": [
    {
     "ename": "TypeError",
     "evalue": "'tuple' object does not support item assignment",
     "output_type": "error",
     "traceback": [
      "\u001b[0;31m---------------------------------------------------------------------------\u001b[0m",
      "\u001b[0;31mTypeError\u001b[0m                                 Traceback (most recent call last)",
      "Cell \u001b[0;32mIn[19], line 2\u001b[0m\n\u001b[1;32m      1\u001b[0m T \u001b[38;5;241m=\u001b[39m \u001b[38;5;28mtuple\u001b[39m(\u001b[38;5;124m'\u001b[39m\u001b[38;5;124m가나다라마바사\u001b[39m\u001b[38;5;124m'\u001b[39m)\n\u001b[0;32m----> 2\u001b[0m \u001b[43mT\u001b[49m\u001b[43m[\u001b[49m\u001b[38;5;241;43m0\u001b[39;49m\u001b[43m]\u001b[49m \u001b[38;5;241m=\u001b[39m \u001b[38;5;124m'\u001b[39m\u001b[38;5;124m캐\u001b[39m\u001b[38;5;124m'\u001b[39m\n",
      "\u001b[0;31mTypeError\u001b[0m: 'tuple' object does not support item assignment"
     ]
    }
   ],
   "source": [
    "T = tuple('가나다라마바사')\n",
    "T[0] = '캐'"
   ]
  },
  {
   "cell_type": "code",
   "execution_count": 23,
   "metadata": {},
   "outputs": [
    {
     "name": "stdout",
     "output_type": "stream",
     "text": [
      "('캐', '나', '다', '라', '마', '바', '사')\n"
     ]
    }
   ],
   "source": [
    "T = tuple('가나다라마바사')\n",
    "T = ('캐',) + T[1:] # 새로 만들어줘야함\n",
    "print(T)"
   ]
  },
  {
   "cell_type": "code",
   "execution_count": 25,
   "metadata": {},
   "outputs": [
    {
     "name": "stdout",
     "output_type": "stream",
     "text": [
      "('캐', '나', '다', '밴', '쿠', '버', '사')\n",
      "('캐', '나', '다', '밴', '쿠', '버', '최', '고', '사')\n",
      "('밴', '쿠', '버', '최', '고', '사')\n"
     ]
    }
   ],
   "source": [
    "# 튜플은 수정이 불가능하기 때문에 새로운 튜플을 만들어야한다.\n",
    "T = ('캐','나','다','라','마','바','사')\n",
    "T = T[0:3] + ('밴','쿠','버') + (T[-1],)\n",
    "print(T)\n",
    "\n",
    "T = T[:-1] + ('최','고') + (T[-1],)\n",
    "print(T)\n",
    "\n",
    "T = T[3:]\n",
    "print(T)"
   ]
  },
  {
   "cell_type": "markdown",
   "metadata": {},
   "source": [
    "### 튜플 안에 있는 수정가능한 객체들은 수정가능하다"
   ]
  },
  {
   "cell_type": "code",
   "execution_count": 27,
   "metadata": {},
   "outputs": [
    {
     "name": "stdout",
     "output_type": "stream",
     "text": [
      "(['캐', '나', '다'], 100, 200, 300)\n"
     ]
    }
   ],
   "source": [
    "T = (['가','나','다'], 100, 200, 300)\n",
    "T[0][0] = '캐'\n",
    "print(T)"
   ]
  },
  {
   "cell_type": "markdown",
   "metadata": {},
   "source": [
    "### Tuple methods\n",
    "- `count()`, `index()`"
   ]
  },
  {
   "cell_type": "code",
   "execution_count": 28,
   "metadata": {},
   "outputs": [
    {
     "data": {
      "text/plain": [
       "4"
      ]
     },
     "execution_count": 28,
     "metadata": {},
     "output_type": "execute_result"
    }
   ],
   "source": [
    "T = (1,2,2,3,3,3,4,4,4,4)\n",
    "T.count(4)"
   ]
  },
  {
   "cell_type": "code",
   "execution_count": 37,
   "metadata": {},
   "outputs": [
    {
     "name": "stdout",
     "output_type": "stream",
     "text": [
      "6\n",
      "7\n",
      "3\n"
     ]
    }
   ],
   "source": [
    "T = (1,2,2,3,3,3,4,4,4,4)\n",
    "print(T.index(4))\n",
    "print(T.index(4, 7)) # 7번째부터 시작해라\n",
    "print(T.index(3))"
   ]
  },
  {
   "cell_type": "code",
   "execution_count": 38,
   "metadata": {},
   "outputs": [
    {
     "name": "stdout",
     "output_type": "stream",
     "text": [
      "Help on built-in function index:\n",
      "\n",
      "index(value, start=0, stop=9223372036854775807, /) method of builtins.tuple instance\n",
      "    Return first index of value.\n",
      "    \n",
      "    Raises ValueError if the value is not present.\n",
      "\n",
      "None\n"
     ]
    }
   ],
   "source": [
    "print(help(T.index)) # 명령어 help"
   ]
  }
 ],
 "metadata": {
  "kernelspec": {
   "display_name": "algorithm",
   "language": "python",
   "name": "python3"
  },
  "language_info": {
   "codemirror_mode": {
    "name": "ipython",
    "version": 3
   },
   "file_extension": ".py",
   "mimetype": "text/x-python",
   "name": "python",
   "nbconvert_exporter": "python",
   "pygments_lexer": "ipython3",
   "version": "3.11.9"
  }
 },
 "nbformat": 4,
 "nbformat_minor": 2
}
