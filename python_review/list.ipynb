{
 "cells": [
  {
   "cell_type": "markdown",
   "metadata": {},
   "source": [
    "## List(리스트)\n",
    "\n",
    "- 문자열과는 다르게 리스트는 바꿀 수 있는 열(mutable sequence)\n",
    "- 리스트는 대괄호로 둘러싸여 있으며 그 안에 쉼표로 구분된 값들이 들어가게 됨\n",
    "\n",
    "### 리스트의 열(sequence) 특징\n",
    "- 객체의 메모리 주소 하나하나를 왼쪽에서 오른쪽으로 차례대로 저장\n",
    "- 슬라이싱(slicing) : 리스트의 일부를 추출\n",
    "- 인덱싱(indexing) : 리스트의 각 요소는 인덱스를 가지고 있음 "
   ]
  },
  {
   "cell_type": "code",
   "execution_count": 1,
   "metadata": {},
   "outputs": [
    {
     "name": "stdout",
     "output_type": "stream",
     "text": [
      "[1, 3, 5, 7, 9]\n"
     ]
    }
   ],
   "source": [
    "odds = [1, 3, 5, 7, 9]\n",
    "print(odds)"
   ]
  },
  {
   "cell_type": "markdown",
   "metadata": {},
   "source": [
    "- 대괄호 안에 객체들을 순서대로 모아 놓은 객체\n",
    "- int, float, str, list, dict, tuple, sets, None, bool, functions, methods 등"
   ]
  },
  {
   "cell_type": "code",
   "execution_count": 2,
   "metadata": {},
   "outputs": [
    {
     "name": "stdout",
     "output_type": "stream",
     "text": [
      "['hello', 7, 0.5]\n"
     ]
    }
   ],
   "source": [
    "# 서로 다른 자료형의 데이터\n",
    "data = ['hello', 7, 0.5]\n",
    "print(data)"
   ]
  },
  {
   "cell_type": "markdown",
   "metadata": {},
   "source": [
    "### 리스트 연산 (list operation)\n"
   ]
  },
  {
   "cell_type": "code",
   "execution_count": 3,
   "metadata": {},
   "outputs": [
    {
     "name": "stdout",
     "output_type": "stream",
     "text": [
      "[1, 2, 3, 4, 5, 6]\n",
      "[1, 2, 3, 1, 2, 3, 1, 2, 3]\n"
     ]
    }
   ],
   "source": [
    "print([1, 2, 3] + [4, 5, 6])\n",
    "print([1, 2, 3] * 3)"
   ]
  },
  {
   "cell_type": "markdown",
   "metadata": {},
   "source": [
    "### 다항성 (Polymorhism)\n",
    "\n",
    "질문 : [1,2,3] + 100 은 결과값이 어떻게 될까?"
   ]
  },
  {
   "cell_type": "code",
   "execution_count": 9,
   "metadata": {},
   "outputs": [
    {
     "name": "stdout",
     "output_type": "stream",
     "text": [
      "['가나다라마바사']\n",
      "['가나다라!가나다라!가나다라!가나다라!']\n",
      "[400]\n",
      "[400]\n"
     ]
    }
   ],
   "source": [
    "data = ['가나다라' + '마바사']\n",
    "data1 = ['가나다라!' * 4]\n",
    "print(data)\n",
    "print(data1)\n",
    "\n",
    "data2 = [100 + 300]\n",
    "data3 = [100 * 4]\n",
    "print(data2)\n",
    "print(data3)\n"
   ]
  },
  {
   "cell_type": "code",
   "execution_count": 11,
   "metadata": {},
   "outputs": [
    {
     "ename": "TypeError",
     "evalue": "can only concatenate list (not \"int\") to list",
     "output_type": "error",
     "traceback": [
      "\u001b[0;31m---------------------------------------------------------------------------\u001b[0m",
      "\u001b[0;31mTypeError\u001b[0m                                 Traceback (most recent call last)",
      "Cell \u001b[0;32mIn[11], line 1\u001b[0m\n\u001b[0;32m----> 1\u001b[0m data \u001b[38;5;241m=\u001b[39m (\u001b[43m[\u001b[49m\u001b[38;5;241;43m1\u001b[39;49m\u001b[43m,\u001b[49m\u001b[38;5;241;43m2\u001b[39;49m\u001b[43m,\u001b[49m\u001b[38;5;241;43m3\u001b[39;49m\u001b[43m]\u001b[49m\u001b[43m \u001b[49m\u001b[38;5;241;43m+\u001b[39;49m\u001b[43m \u001b[49m\u001b[38;5;241;43m100\u001b[39;49m)\n\u001b[1;32m      2\u001b[0m \u001b[38;5;28mprint\u001b[39m(data)\n",
      "\u001b[0;31mTypeError\u001b[0m: can only concatenate list (not \"int\") to list"
     ]
    }
   ],
   "source": [
    "# 서로 다른 객체라서 에러가 뜬다.\n",
    "data = ([1,2,3] + 100)\n",
    "print(data)"
   ]
  },
  {
   "cell_type": "markdown",
   "metadata": {},
   "source": [
    "### 리스트 안에 내장함수와 메소드 집어넣기"
   ]
  },
  {
   "cell_type": "code",
   "execution_count": 13,
   "metadata": {},
   "outputs": [
    {
     "name": "stdout",
     "output_type": "stream",
     "text": [
      "this is print function 4\n"
     ]
    }
   ],
   "source": [
    "L = [str.replace, list.append, print, len] \n",
    "L[2](\"this is print function \" + str(L[3](L)))"
   ]
  },
  {
   "cell_type": "markdown",
   "metadata": {},
   "source": [
    "- 위 예제는 안좋은 예시이다. (str.replace, list.append 사용 못함) \n",
    "- 이렇게 가능하다라는 것을 보여주기 위함"
   ]
  },
  {
   "cell_type": "markdown",
   "metadata": {},
   "source": [
    "### Lists `in` test"
   ]
  },
  {
   "cell_type": "code",
   "execution_count": 5,
   "metadata": {},
   "outputs": [
    {
     "name": "stdout",
     "output_type": "stream",
     "text": [
      "True\n",
      "False\n"
     ]
    }
   ],
   "source": [
    "test = 100 in [100, 200, 300]\n",
    "test1 = [100, 200] in [100, 200, 300]\n",
    "\n",
    "print(test)\n",
    "print(test1)"
   ]
  },
  {
   "cell_type": "markdown",
   "metadata": {},
   "source": [
    "### Lists 인덱싱"
   ]
  },
  {
   "cell_type": "code",
   "execution_count": 21,
   "metadata": {},
   "outputs": [
    {
     "name": "stdout",
     "output_type": "stream",
     "text": [
      "100\n",
      "400\n",
      "400\n",
      "100\n"
     ]
    }
   ],
   "source": [
    "L = [100, 200, 300, 400]\n",
    "print(L[0])\n",
    "print(L[3])\n",
    "print(L[-1])\n",
    "print(L[-4])\n"
   ]
  },
  {
   "cell_type": "markdown",
   "metadata": {},
   "source": [
    "### Lists 슬라이싱"
   ]
  },
  {
   "cell_type": "code",
   "execution_count": 22,
   "metadata": {},
   "outputs": [
    {
     "name": "stdout",
     "output_type": "stream",
     "text": [
      "[200, 300]\n",
      "[200, 300, 400, 500, 600, 700]\n",
      "[100, 200, 300, 400, 500, 600]\n",
      "200\n",
      "[200, 400, 600]\n",
      "[100, 300, 500, 700]\n"
     ]
    }
   ],
   "source": [
    "L = [100, 200, 300, 400, 500, 600, 700]\n",
    "print(L[1:3])\n",
    "print(L[1:])\n",
    "print(L[:-1])\n",
    "print(L[-6])\n",
    "print(L[1:-1:2]) # 인덱스 1에서 시작해 마지막 인덱스 전까지 (두칸씩 건너뛰며 요소 선택)\n",
    "print(L[::2]) # 리스트의 처음부터 끝까지, 두칸씩 건너뛰며 요소들을 선택"
   ]
  },
  {
   "cell_type": "markdown",
   "metadata": {},
   "source": [
    "### Lists 전환"
   ]
  },
  {
   "cell_type": "code",
   "execution_count": 3,
   "metadata": {},
   "outputs": [
    {
     "name": "stdout",
     "output_type": "stream",
     "text": [
      "['a', 'b']c\n",
      "['a', 'b', 'c']\n"
     ]
    }
   ],
   "source": [
    "# print(['a', 'b'] + 'c') # 에러\n",
    "print(str(['a', 'b']) + 'c')\n",
    "print(['a', 'b'] + list('c')) "
   ]
  },
  {
   "cell_type": "code",
   "execution_count": 4,
   "metadata": {},
   "outputs": [
    {
     "name": "stdout",
     "output_type": "stream",
     "text": [
      "[1, 2, 3, 4, 5]\n",
      "['j', 'u', 'n']\n"
     ]
    },
    {
     "ename": "TypeError",
     "evalue": "'int' object is not iterable",
     "output_type": "error",
     "traceback": [
      "\u001b[0;31m---------------------------------------------------------------------------\u001b[0m",
      "\u001b[0;31mTypeError\u001b[0m                                 Traceback (most recent call last)",
      "Cell \u001b[0;32mIn[4], line 6\u001b[0m\n\u001b[1;32m      4\u001b[0m \u001b[38;5;28mprint\u001b[39m(\u001b[38;5;28mlist\u001b[39m(a))\n\u001b[1;32m      5\u001b[0m \u001b[38;5;28mprint\u001b[39m(\u001b[38;5;28mlist\u001b[39m(b))\n\u001b[0;32m----> 6\u001b[0m \u001b[38;5;28mprint\u001b[39m(\u001b[38;5;28;43mlist\u001b[39;49m\u001b[43m(\u001b[49m\u001b[43mc\u001b[49m\u001b[43m)\u001b[49m)\n",
      "\u001b[0;31mTypeError\u001b[0m: 'int' object is not iterable"
     ]
    }
   ],
   "source": [
    "a = (1, 2, 3, 4, 5)\n",
    "b = 'jun'\n",
    "c = 100\n",
    "print(list(a))\n",
    "print(list(b))\n",
    "print(list(c))"
   ]
  },
  {
   "cell_type": "markdown",
   "metadata": {},
   "source": [
    "### List는 수정 가능한 열(Sequence)"
   ]
  },
  {
   "cell_type": "code",
   "execution_count": 7,
   "metadata": {},
   "outputs": [
    {
     "name": "stdout",
     "output_type": "stream",
     "text": [
      "['캐', '나', '다', '라', '마', '바', '사']\n",
      "['가', '나', '다', '라', '마', '바', '사']\n"
     ]
    }
   ],
   "source": [
    "# List 수정\n",
    "L = list('가나다라마바사')\n",
    "L[0] = '캐'\n",
    "\n",
    "# 새로운 List 생성하는 방법\n",
    "L1 = list('가나다라마바사')\n",
    "L1 = ['가'] + L[1:]\n",
    "\n",
    "print(L)\n",
    "print(L1)"
   ]
  },
  {
   "cell_type": "code",
   "execution_count": 8,
   "metadata": {},
   "outputs": [
    {
     "name": "stdout",
     "output_type": "stream",
     "text": [
      "['캐', '나', '다', '벤', '쿠', '버', '사']\n",
      "['캐', '나', '다', '벤', '쿠', '버', '최', '고', '사']\n",
      "['벤', '쿠', '버', '최', '고', '사']\n"
     ]
    }
   ],
   "source": [
    "L = ['캐', '나', '다', '라', '마', '바', '사']\n",
    "L[3:6] = ['벤', '쿠', '버']\n",
    "print(L)\n",
    "\n",
    "L[6:6] = ['최', '고']\n",
    "print(L)\n",
    "\n",
    "L[0:3] = [] #empty list\n",
    "print(L)\n"
   ]
  },
  {
   "cell_type": "markdown",
   "metadata": {},
   "source": [
    "### List methods\n",
    "- 리스트 객체 안에 있는 함수들\n",
    "- append, extend, insert, remove, pop, clear, index, count, sort, reverse, copy 등..."
   ]
  },
  {
   "cell_type": "markdown",
   "metadata": {},
   "source": [
    "- append 메소드 : 리스트의 끝에 새로운 요소를 추가"
   ]
  },
  {
   "cell_type": "code",
   "execution_count": 14,
   "metadata": {},
   "outputs": [
    {
     "name": "stdout",
     "output_type": "stream",
     "text": [
      "['안녕', '내', '이름은', '파이썬']\n",
      "['안녕', '내', '이름은', '파이썬', '반가워']\n",
      "None\n"
     ]
    }
   ],
   "source": [
    "L = ['안녕', '내', '이름은', '파이썬']\n",
    "print(L)\n",
    "L.append('반가워')\n",
    "print(L)\n",
    "\n",
    "L1 = ['안녕', '내', '이름은', '파이썬']\n",
    "L1 = L1.append('반가워') # append()는 in-place replacement = None\n",
    "print(L1)"
   ]
  },
  {
   "cell_type": "markdown",
   "metadata": {},
   "source": [
    "- .extend() 메소드 : 리스트의 끝에 여러 요소를 추가"
   ]
  },
  {
   "cell_type": "code",
   "execution_count": 18,
   "metadata": {},
   "outputs": [
    {
     "name": "stdout",
     "output_type": "stream",
     "text": [
      "['안녕', '내', '이름은', '파이썬', '정말', '반가워']\n",
      "['안녕', '내', '이름은', '파이썬', '정말', '반가워']\n",
      "['안녕', '내', '이름은', '파이썬', '정말', '반가워']\n"
     ]
    }
   ],
   "source": [
    "L = ['안녕', '내', '이름은', '파이썬']\n",
    "L.extend(['정말', '반가워'])\n",
    "print(L)\n",
    "\n",
    "L1 = ['안녕', '내', '이름은', '파이썬']\n",
    "L1[5:] = ['정말', '반가워']\n",
    "print(L1)\n",
    "\n",
    "L2 = ['안녕', '내', '이름은', '파이썬']\n",
    "L2[len(L):] = ['정말', '반가워']\n",
    "print(L2)"
   ]
  },
  {
   "cell_type": "markdown",
   "metadata": {},
   "source": [
    "- .sort() 메소드 : 리스트의 요소를 정렬"
   ]
  },
  {
   "cell_type": "code",
   "execution_count": 20,
   "metadata": {},
   "outputs": [
    {
     "name": "stdout",
     "output_type": "stream",
     "text": [
      "['내', '안녕', '이름은', '파이썬']\n",
      "None\n"
     ]
    }
   ],
   "source": [
    "L = ['안녕', '내', '이름은', '파이썬']\n",
    "L.sort()\n",
    "print(L)\n",
    "\n",
    "L1 = L.sort() # return하는 값이 없어서 None이 뜬다.\n",
    "print(L1)"
   ]
  },
  {
   "cell_type": "markdown",
   "metadata": {},
   "source": [
    "- .reverse() 메소드 : 리스트의 요소를 역순으로 정렬"
   ]
  },
  {
   "cell_type": "code",
   "execution_count": 22,
   "metadata": {},
   "outputs": [
    {
     "name": "stdout",
     "output_type": "stream",
     "text": [
      "['파이썬', '이름은', '내', '안녕']\n"
     ]
    }
   ],
   "source": [
    "L = ['안녕', '내', '이름은', '파이썬']\n",
    "L.reverse()\n",
    "print(L)"
   ]
  },
  {
   "cell_type": "markdown",
   "metadata": {},
   "source": [
    ".pop() 메소드 : 리스트의 마지막 요소를 꺼내고 삭제"
   ]
  },
  {
   "cell_type": "code",
   "execution_count": 24,
   "metadata": {},
   "outputs": [
    {
     "name": "stdout",
     "output_type": "stream",
     "text": [
      "['안녕', '내', '이름은']\n",
      "파이썬\n"
     ]
    }
   ],
   "source": [
    "L = ['안녕', '내', '이름은', '파이썬']\n",
    "L.pop()\n",
    "print(L)\n",
    "\n",
    "L1 = ['안녕', '내', '이름은', '파이썬']\n",
    "item = L1.pop()\n",
    "print(item)"
   ]
  },
  {
   "cell_type": "markdown",
   "metadata": {},
   "source": [
    "- .insert() 메소드 : 리스트의 특정 위치에 요소를 추가"
   ]
  },
  {
   "cell_type": "code",
   "execution_count": 27,
   "metadata": {},
   "outputs": [
    {
     "name": "stdout",
     "output_type": "stream",
     "text": [
      "['안녕', '반가워', '내', '이름은', '파이썬']\n",
      "['안녕', ['정말', '반가워'], '내', '이름은', '파이썬']\n"
     ]
    }
   ],
   "source": [
    "L = ['안녕', '내', '이름은', '파이썬']\n",
    "L.insert(1, '반가워')\n",
    "print(L)\n",
    "\n",
    "L1 = ['안녕', '내', '이름은', '파이썬']\n",
    "L1.insert(1, ['정말', '반가워'])\n",
    "print(L1)"
   ]
  }
 ],
 "metadata": {
  "kernelspec": {
   "display_name": "algorithm",
   "language": "python",
   "name": "python3"
  },
  "language_info": {
   "codemirror_mode": {
    "name": "ipython",
    "version": 3
   },
   "file_extension": ".py",
   "mimetype": "text/x-python",
   "name": "python",
   "nbconvert_exporter": "python",
   "pygments_lexer": "ipython3",
   "version": "3.11.9"
  }
 },
 "nbformat": 4,
 "nbformat_minor": 2
}
