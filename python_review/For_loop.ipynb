{
 "cells": [
  {
   "cell_type": "markdown",
   "metadata": {},
   "source": [
    "## For Loop (For 문)\n",
    "- for문은 반복문 중 하나로, 반복 횟수가 정해져 있을 때 사용한다.\n",
    "- 열에 있는 아이템을 하나하나씩 거쳐간다.\n",
    "```python\n",
    "for item in object:\n",
    "    statements\n",
    "else:\n",
    "    statements\n",
    "```\n"
   ]
  },
  {
   "cell_type": "code",
   "execution_count": 1,
   "metadata": {},
   "outputs": [
    {
     "name": "stdout",
     "output_type": "stream",
     "text": [
      "a\n",
      "b\n",
      "c\n"
     ]
    }
   ],
   "source": [
    "for item in ['a', 'b', 'c']:\n",
    "    print(item)"
   ]
  },
  {
   "cell_type": "code",
   "execution_count": 3,
   "metadata": {},
   "outputs": [
    {
     "name": "stdout",
     "output_type": "stream",
     "text": [
      "0\n",
      "100\n",
      "300\n",
      "600\n",
      "1000\n"
     ]
    }
   ],
   "source": [
    "x =0\n",
    "for item in [100, 200, 300, 400]:\n",
    "    print(x)\n",
    "    x += item\n",
    "\n",
    "print(x)"
   ]
  },
  {
   "cell_type": "code",
   "execution_count": 4,
   "metadata": {},
   "outputs": [
    {
     "name": "stdout",
     "output_type": "stream",
     "text": [
      "400\n"
     ]
    }
   ],
   "source": [
    "for item in [100, 200, 300, 400]:\n",
    "    x = 0 # x가 안으로 들어오면 벌어지는 일\n",
    "    x += item # 계속 x는 0으로 더해진다.\n",
    "\n",
    "print(x)"
   ]
  },
  {
   "cell_type": "code",
   "execution_count": 6,
   "metadata": {},
   "outputs": [
    {
     "name": "stdout",
     "output_type": "stream",
     "text": [
      "p\n",
      "y\n",
      "t\n",
      "h\n",
      "o\n",
      "n\n",
      " \n",
      "r\n",
      "e\n",
      "v\n",
      "i\n",
      "e\n",
      "w\n"
     ]
    }
   ],
   "source": [
    "# string\n",
    "s = 'python review'\n",
    "for letter in s:\n",
    "    print(letter)"
   ]
  },
  {
   "cell_type": "code",
   "execution_count": 16,
   "metadata": {},
   "outputs": [
    {
     "name": "stdout",
     "output_type": "stream",
     "text": [
      "a\n",
      "b\n",
      "c\n",
      "d\n",
      "e\n",
      "<class 'str'>\n"
     ]
    }
   ],
   "source": [
    "for item in ('a', 'b', 'c', 'd', 'e'):\n",
    "    print(item)\n",
    "\n",
    "print(type(item))"
   ]
  },
  {
   "cell_type": "code",
   "execution_count": 17,
   "metadata": {},
   "outputs": [
    {
     "name": "stdout",
     "output_type": "stream",
     "text": [
      "['a', 'b']\n",
      "['c', 'd']\n"
     ]
    }
   ],
   "source": [
    "# list\n",
    "for item in (['a', 'b'],['c', 'd']):\n",
    "    print(item)"
   ]
  },
  {
   "cell_type": "code",
   "execution_count": 18,
   "metadata": {},
   "outputs": [
    {
     "name": "stdout",
     "output_type": "stream",
     "text": [
      "('a', 'b')\n",
      "('c', 'd')\n"
     ]
    }
   ],
   "source": [
    "# Tuple\n",
    "for item in [('a', 'b'),('c', 'd')]:\n",
    "    print(item)"
   ]
  },
  {
   "cell_type": "markdown",
   "metadata": {},
   "source": [
    "#### Tuple (use indexing)"
   ]
  },
  {
   "cell_type": "code",
   "execution_count": 19,
   "metadata": {},
   "outputs": [
    {
     "name": "stdout",
     "output_type": "stream",
     "text": [
      "a\n",
      "b\n",
      "c\n",
      "d\n"
     ]
    }
   ],
   "source": [
    "for item in [('a', 'b'),('c', 'd')]:\n",
    "    print(item[0])\n",
    "    print(item[1])"
   ]
  },
  {
   "cell_type": "markdown",
   "metadata": {},
   "source": [
    "#### Tuple (use unpacking)"
   ]
  },
  {
   "cell_type": "code",
   "execution_count": 20,
   "metadata": {},
   "outputs": [
    {
     "name": "stdout",
     "output_type": "stream",
     "text": [
      "a\n",
      "b\n",
      "c\n",
      "d\n"
     ]
    }
   ],
   "source": [
    "for (item1, item2) in [('a', 'b'),('c', 'd')]:\n",
    "    print(item1)\n",
    "    print(item2)"
   ]
  },
  {
   "cell_type": "markdown",
   "metadata": {},
   "source": [
    "#### Dictionary (사전)은 열이 아닌데?\n",
    "- 사전은 열이 아니라 키를 사용한다.\n",
    "- 하지만 사전은 반복이 가능한 객체이기 때문에 for loop를 사용할 수 있다."
   ]
  },
  {
   "cell_type": "code",
   "execution_count": 21,
   "metadata": {},
   "outputs": [
    {
     "name": "stdout",
     "output_type": "stream",
     "text": [
      "a => 1\n",
      "b => 2\n",
      "c => 3\n"
     ]
    }
   ],
   "source": [
    "D = {'a' : 1, 'b' : 2,'c' : 3}\n",
    "\n",
    "for key in D:\n",
    "    print(key, '=>', D[key])"
   ]
  },
  {
   "cell_type": "code",
   "execution_count": 23,
   "metadata": {},
   "outputs": [
    {
     "name": "stdout",
     "output_type": "stream",
     "text": [
      "dict_items([('a', 1), ('b', 2), ('c', 3)])\n",
      "a => 1\n",
      "b => 2\n",
      "c => 3\n"
     ]
    }
   ],
   "source": [
    "D = {'a' : 1, 'b' : 2,'c' : 3}\n",
    "print(D.items()) # .items() 메서드 : 반복이 가능한 객체 \n",
    "\n",
    "for key, value in D.items():\n",
    "    print(key, '=>', value)"
   ]
  },
  {
   "cell_type": "markdown",
   "metadata": {},
   "source": [
    "- 사전 타입처럼 꼭 `열이 아니더라도` 반복이 가능한 객체이면 for loop를 사용할 수 있다.\n",
    "- 사실 열에 있는 아이템을 하나씩 거쳐가는 것이 아니라, 반복이 가능한 객체들을 하나씩 거쳐가는 것이다.\n",
    "- 리스트, 터플, 문자열, 사전 모두 다 반복이 가능한 객체이다 (iterable object).\n",
    "- 숫자는 반복이 불가능하기 때문에 for loop사용이 안된다."
   ]
  },
  {
   "cell_type": "markdown",
   "metadata": {},
   "source": [
    "### range()\n",
    "- range() 함수는 숫자들의 시퀀스를 만들어낸다. (연속된 숫자를 만들어 준다.)\n",
    "- 리스트를 만들지 않고 range객체를 만들어낸다."
   ]
  },
  {
   "cell_type": "code",
   "execution_count": 26,
   "metadata": {},
   "outputs": [
    {
     "name": "stdout",
     "output_type": "stream",
     "text": [
      "range(0, 5)\n",
      "[0, 1, 2, 3, 4]\n"
     ]
    }
   ],
   "source": [
    "x = range(5)\n",
    "print(x)\n",
    "print(list(x))"
   ]
  },
  {
   "cell_type": "code",
   "execution_count": 28,
   "metadata": {},
   "outputs": [
    {
     "name": "stdout",
     "output_type": "stream",
     "text": [
      "[100, 200, 300, 400]\n"
     ]
    }
   ],
   "source": [
    "y = list(range(100, 500, 100)) # start, end, step\n",
    "print(y)"
   ]
  },
  {
   "cell_type": "code",
   "execution_count": 30,
   "metadata": {},
   "outputs": [
    {
     "name": "stdout",
     "output_type": "stream",
     "text": [
      "[100, 200, 300, 400, 500]\n"
     ]
    }
   ],
   "source": [
    "z = list(range(100,  501, 100)) # range(5)는 range(0, 5, 1)과 같다.\n",
    "print(z)"
   ]
  },
  {
   "cell_type": "code",
   "execution_count": 32,
   "metadata": {},
   "outputs": [
    {
     "name": "stdout",
     "output_type": "stream",
     "text": [
      "<class 'range'>\n"
     ]
    }
   ],
   "source": [
    "# range()는 리스트를 만들지 않고 range 객체를 만들어낸다.\n",
    "x = range(5)\n",
    "print(type(x)) "
   ]
  },
  {
   "cell_type": "code",
   "execution_count": 33,
   "metadata": {},
   "outputs": [
    {
     "name": "stdout",
     "output_type": "stream",
     "text": [
      "0\n",
      "1\n",
      "2\n",
      "3\n",
      "4\n"
     ]
    }
   ],
   "source": [
    "# range객체는 반복이 가능한 객체일까? (for loop로 확인)\n",
    "for i in range(5):\n",
    "    print(i)"
   ]
  },
  {
   "cell_type": "markdown",
   "metadata": {},
   "source": [
    "- for loop에서 사용가능하다 = 반복가능한 객체이다.\n",
    "\n",
    "### range(len())\n",
    "- range와 len을 같이 사용하면 유용하다."
   ]
  },
  {
   "cell_type": "code",
   "execution_count": 35,
   "metadata": {},
   "outputs": [
    {
     "name": "stdout",
     "output_type": "stream",
     "text": [
      "0\n",
      "p\n",
      "1\n",
      "y\n",
      "2\n",
      "t\n",
      "3\n",
      "h\n",
      "4\n",
      "o\n",
      "5\n",
      "n\n"
     ]
    }
   ],
   "source": [
    "s = 'python'\n",
    "for index in range(len(s)):\n",
    "    print(index)\n",
    "    print(s[index])"
   ]
  },
  {
   "cell_type": "markdown",
   "metadata": {},
   "source": [
    "- 하지만 꽤나 느리고 더 많은 일을 컴퓨터한테 시키게 된다."
   ]
  },
  {
   "cell_type": "code",
   "execution_count": 38,
   "metadata": {},
   "outputs": [
    {
     "name": "stdout",
     "output_type": "stream",
     "text": [
      "p\n",
      "y\n",
      "t\n",
      "h\n",
      "o\n",
      "n\n"
     ]
    }
   ],
   "source": [
    "# 더 빠른 방법\n",
    "s = 'python'\n",
    "for item in s:\n",
    "    print(item)"
   ]
  },
  {
   "cell_type": "markdown",
   "metadata": {},
   "source": [
    "- 그러면 range(len())방법은 리스트 안에 있는 개체들을 바꿀때 주로 사용한다."
   ]
  },
  {
   "cell_type": "code",
   "execution_count": 39,
   "metadata": {},
   "outputs": [
    {
     "name": "stdout",
     "output_type": "stream",
     "text": [
      "[100, 200, 300, 400, 500]\n"
     ]
    }
   ],
   "source": [
    "# 리스트 안에 있는 객체들을 바꾸는 방법 (메모리량을 줄인다, 실행속도는 느려짐)\n",
    "L = [1,2,3,4,5]\n",
    "for i in range(len(L)):\n",
    "    L[i] = L[i] * 100\n",
    "\n",
    "print(L)"
   ]
  },
  {
   "cell_type": "code",
   "execution_count": 40,
   "metadata": {},
   "outputs": [
    {
     "name": "stdout",
     "output_type": "stream",
     "text": [
      "[1, 2, 3, 4, 5]\n",
      "[100, 200, 300, 400, 500]\n"
     ]
    }
   ],
   "source": [
    "# 새로운 리스트를 만드는 방법 (메모리량을 올린다, 실행속도는 빨라짐)\n",
    "L = [1,2,3,4,5]\n",
    "new_L = []\n",
    "for i in L:\n",
    "    new_L.append(i * 100)\n",
    "\n",
    "print(L)\n",
    "print(new_L)"
   ]
  },
  {
   "cell_type": "code",
   "execution_count": 42,
   "metadata": {},
   "outputs": [
    {
     "name": "stdout",
     "output_type": "stream",
     "text": [
      "[100, 200, 300, 400, 500]\n"
     ]
    }
   ],
   "source": [
    "# while 루프로 해본다면?\n",
    "L = [1,2,3,4,5]\n",
    "i = 0\n",
    "while i < len(L):\n",
    "    L[i] = L[i] * 100\n",
    "    i += 1\n",
    "\n",
    "print(L)"
   ]
  },
  {
   "cell_type": "markdown",
   "metadata": {},
   "source": [
    "### List comprehension\n",
    "- 리스트 안에 있는 개체들을 바꿀때 사용한다.\n",
    "- for loop 보다 빠르다\n",
    "\n",
    "```python\n",
    "# list comprehension 사용전\n",
    "L = [1,2,3,4,5]\n",
    "new_L = []\n",
    "for i in L:\n",
    "    new_L.append(i * 100)\n",
    "\n",
    "print(L)\n",
    "print(new_L)\n",
    "```"
   ]
  },
  {
   "cell_type": "code",
   "execution_count": 43,
   "metadata": {},
   "outputs": [
    {
     "name": "stdout",
     "output_type": "stream",
     "text": [
      "[1, 2, 3, 4, 5]\n",
      "[100, 200, 300, 400, 500]\n"
     ]
    }
   ],
   "source": [
    "L = [1,2,3,4,5]\n",
    "new_L = [x * 100 for x in L]\n",
    "\n",
    "print(L)\n",
    "print(new_L)"
   ]
  },
  {
   "cell_type": "code",
   "execution_count": 44,
   "metadata": {},
   "outputs": [
    {
     "name": "stdout",
     "output_type": "stream",
     "text": [
      "['한국', '캐나다', '미국', '일본', '호주']\n",
      "['한국사람', '캐나다사람', '미국사람', '일본사람', '호주사람']\n"
     ]
    }
   ],
   "source": [
    "L = ['한국', '캐나다', '미국','일본', '호주'] \n",
    "new_L = [x +'사람' for x in L]\n",
    "\n",
    "print(L)\n",
    "print(new_L)"
   ]
  },
  {
   "cell_type": "code",
   "execution_count": 46,
   "metadata": {},
   "outputs": [
    {
     "name": "stdout",
     "output_type": "stream",
     "text": [
      "['한국', '캐나다', '미국', '일본', '호주']\n",
      "[2, 3, 2, 2, 2]\n"
     ]
    }
   ],
   "source": [
    "L = ['한국', '캐나다', '미국','일본', '호주'] \n",
    "new_L = [len(x) for x in L]\n",
    "\n",
    "print(L)\n",
    "print(new_L)"
   ]
  },
  {
   "cell_type": "code",
   "execution_count": 47,
   "metadata": {},
   "outputs": [
    {
     "name": "stdout",
     "output_type": "stream",
     "text": [
      "['한국', '캐나다', '미국', '일본', '호주']\n",
      "['캐나다사람']\n"
     ]
    }
   ],
   "source": [
    "L = ['한국', '캐나다', '미국','일본', '호주'] \n",
    "new_L = [x +'사람' for x in L if len(x) > 2]\n",
    "\n",
    "print(L)\n",
    "print(new_L)"
   ]
  },
  {
   "cell_type": "code",
   "execution_count": 48,
   "metadata": {},
   "outputs": [
    {
     "name": "stdout",
     "output_type": "stream",
     "text": [
      "['한국', '캐나다', '미국', '일본', '호주']\n",
      "['한국인', '캐나다사람', '미국인', '일본인', '호주인']\n"
     ]
    }
   ],
   "source": [
    "L = ['한국', '캐나다', '미국','일본', '호주'] \n",
    "new_L = [x +'사람' if len(x) > 2 else x + '인' for x in L ]\n",
    "\n",
    "print(L)\n",
    "print(new_L)"
   ]
  },
  {
   "cell_type": "code",
   "execution_count": 49,
   "metadata": {},
   "outputs": [
    {
     "name": "stdout",
     "output_type": "stream",
     "text": [
      "['한국', '캐나다', '미국', '일본', '중국']\n",
      "['한국인', '캐나다사람', '미국인', '일본인', '중국인']\n"
     ]
    }
   ],
   "source": [
    "# for loop 활용\n",
    "L = ['한국', '캐나다', '미국', '일본', '중국']\n",
    "new_L = []\n",
    "\n",
    "for x in L:\n",
    "    if len(x) > 2:\n",
    "        new_L.append(x + '사람')\n",
    "    else:\n",
    "        new_L.append(x + '인')\n",
    "print(L)\n",
    "print(new_L)"
   ]
  },
  {
   "cell_type": "markdown",
   "metadata": {},
   "source": [
    "### 다른 반복가능한 객체들 (iterable object)"
   ]
  },
  {
   "cell_type": "code",
   "execution_count": 51,
   "metadata": {},
   "outputs": [
    {
     "name": "stdout",
     "output_type": "stream",
     "text": [
      "<zip object at 0x106db3040>\n",
      "[(1, 100), (2, 200), (3, 300), (4, 400)]\n"
     ]
    }
   ],
   "source": [
    "# zip()\n",
    "L1 = [1, 2, 3, 4]\n",
    "L2 = [100, 200, 300, 400]\n",
    "\n",
    "print(zip(L1, L2)) # memory location\n",
    "print(list(zip(L1, L2))) # 리스트"
   ]
  },
  {
   "cell_type": "code",
   "execution_count": 53,
   "metadata": {},
   "outputs": [
    {
     "name": "stdout",
     "output_type": "stream",
     "text": [
      "1 + 100 => 101\n",
      "2 + 200 => 202\n",
      "3 + 300 => 303\n",
      "4 + 400 => 404\n"
     ]
    }
   ],
   "source": [
    "# for loop 사용\n",
    "L1 = [1,2,3,4]\n",
    "L2 = [100, 200, 300, 400]\n",
    "\n",
    "for (a, b) in zip(L1, L2):\n",
    "    print(a, '+', b, '=>', a+b)"
   ]
  },
  {
   "cell_type": "code",
   "execution_count": 54,
   "metadata": {},
   "outputs": [
    {
     "name": "stdout",
     "output_type": "stream",
     "text": [
      "<map object at 0x106974a90>\n",
      "[1, 2, 3, 4]\n"
     ]
    }
   ],
   "source": [
    "# map()\n",
    "L = ['a', 'ab', 'abc', 'abcd']\n",
    "\n",
    "print(map(len, L))\n",
    "print(list(map(len, L)))"
   ]
  },
  {
   "cell_type": "code",
   "execution_count": 55,
   "metadata": {},
   "outputs": [
    {
     "name": "stdout",
     "output_type": "stream",
     "text": [
      "1\n",
      "2\n",
      "3\n",
      "4\n"
     ]
    }
   ],
   "source": [
    "# for loop 사용\n",
    "L = ['a', 'ab', 'abc', 'abcd']\n",
    "\n",
    "for x in map(len, L): # len()으로 사용하면 len()를 실행하라는 의미이기때문에 빼준다.\n",
    "    print(x)"
   ]
  },
  {
   "cell_type": "code",
   "execution_count": 57,
   "metadata": {},
   "outputs": [
    {
     "name": "stdout",
     "output_type": "stream",
     "text": [
      "[1, 4, 9, 16]\n"
     ]
    }
   ],
   "source": [
    "def power(a):\n",
    "    return pow(a[0], a[1]) # pow() : Return the value of x to the power of y\n",
    "\n",
    "x = list(map(power, [(1,2), (2,2), (3,2), (4,2)]))\n",
    "print(x)"
   ]
  },
  {
   "cell_type": "code",
   "execution_count": 58,
   "metadata": {},
   "outputs": [
    {
     "name": "stdout",
     "output_type": "stream",
     "text": [
      "<enumerate object at 0x106dc8c20>\n",
      "[(0, 'a'), (1, 'ab'), (2, 'abc'), (3, 'abcd')]\n"
     ]
    }
   ],
   "source": [
    "# enumerate()\n",
    "L = ['a', 'ab', 'abc', 'abcd']\n",
    "\n",
    "print(enumerate(L))\n",
    "print(list(enumerate(L)))"
   ]
  },
  {
   "cell_type": "code",
   "execution_count": 59,
   "metadata": {},
   "outputs": [
    {
     "name": "stdout",
     "output_type": "stream",
     "text": [
      "0 => a\n",
      "1 => ab\n",
      "2 => abc\n",
      "3 => abcd\n"
     ]
    }
   ],
   "source": [
    "# for loop 사용\n",
    "L = ['a', 'ab', 'abc', 'abcd']\n",
    "\n",
    "for (idx, item) in enumerate(L):\n",
    "    print(idx, '=>', item)\n"
   ]
  },
  {
   "cell_type": "code",
   "execution_count": 62,
   "metadata": {},
   "outputs": [
    {
     "name": "stdout",
     "output_type": "stream",
     "text": [
      "['파', '이', '썬', ' ']\n"
     ]
    }
   ],
   "source": [
    "s1 = '파이썬 기초'\n",
    "s2 = '파이썬 중급'\n",
    "\n",
    "L = []\n",
    "for item in s1:\n",
    "    if item in s2:\n",
    "        L.append(item)\n",
    "\n",
    "print(L) # 중복 단어 리스트 추출"
   ]
  }
 ],
 "metadata": {
  "kernelspec": {
   "display_name": "algorithm",
   "language": "python",
   "name": "python3"
  },
  "language_info": {
   "codemirror_mode": {
    "name": "ipython",
    "version": 3
   },
   "file_extension": ".py",
   "mimetype": "text/x-python",
   "name": "python",
   "nbconvert_exporter": "python",
   "pygments_lexer": "ipython3",
   "version": "3.11.9"
  }
 },
 "nbformat": 4,
 "nbformat_minor": 2
}
