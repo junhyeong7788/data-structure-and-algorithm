{
 "cells": [
  {
   "cell_type": "markdown",
   "metadata": {},
   "source": [
    "## Numbers(숫자형)\n",
    "- integer(정수형)\n",
    "- float(실수형)\n",
    "- boolean(불린형) : True or False (1 or 0)\n",
    "\n",
    "- 컴퓨터 속 메모리 객체들\n",
    "    - int class가 integer 인스턴스 객체를 만들어줌\n",
    "    - float class가 float 인스턴스 객체를 만들어줌\n",
    "    - bool class가 boolean 인스턴스 객체를 만들어줌\n",
    "\n",
    "#### Expression Operations for Numbers (표현식 연산)\n",
    "- `+, -, *, /, //, %, ( )`\n"
   ]
  },
  {
   "cell_type": "code",
   "execution_count": 2,
   "metadata": {},
   "outputs": [
    {
     "name": "stdout",
     "output_type": "stream",
     "text": [
      "24\n",
      "1\n"
     ]
    }
   ],
   "source": [
    "print( ( 3 + 3 ) * 2**2 )\n",
    "print( ( 3 + 3 ) * 2**2 - 23 )"
   ]
  },
  {
   "cell_type": "code",
   "execution_count": 4,
   "metadata": {},
   "outputs": [
    {
     "name": "stdout",
     "output_type": "stream",
     "text": [
      "False\n",
      "True\n",
      "True\n",
      "True\n"
     ]
    }
   ],
   "source": [
    "print(3 > 3)\n",
    "print(3 >= 3)\n",
    "print(3 < 5)\n",
    "print(2.1 > 2) # float와 int 비교 가능"
   ]
  },
  {
   "cell_type": "code",
   "execution_count": 5,
   "metadata": {},
   "outputs": [
    {
     "name": "stdout",
     "output_type": "stream",
     "text": [
      "True\n",
      "True\n"
     ]
    }
   ],
   "source": [
    "print(5 == 5.0)\n",
    "print(5 != 4)"
   ]
  },
  {
   "cell_type": "code",
   "execution_count": 6,
   "metadata": {},
   "outputs": [
    {
     "name": "stdout",
     "output_type": "stream",
     "text": [
      "False\n",
      "True\n"
     ]
    }
   ],
   "source": [
    "x = 2\n",
    "y = 3\n",
    "z = 4\n",
    "\n",
    "print(x < y and y > z)\n",
    "print(x < y or y < z)"
   ]
  },
  {
   "cell_type": "markdown",
   "metadata": {},
   "source": [
    "#### Built-in Functions for Numbers (내장 함수)\n",
    "- `abs(), divmod(), float(), int(), max(), min(), pow(), round()`"
   ]
  },
  {
   "cell_type": "code",
   "execution_count": 8,
   "metadata": {},
   "outputs": [
    {
     "name": "stdout",
     "output_type": "stream",
     "text": [
      "6.0\n",
      "6\n"
     ]
    }
   ],
   "source": [
    "x = 3 + 3\n",
    "print(float(x))\n",
    "print(int(float(x)))"
   ]
  },
  {
   "cell_type": "code",
   "execution_count": 9,
   "metadata": {},
   "outputs": [
    {
     "name": "stdout",
     "output_type": "stream",
     "text": [
      "9\n",
      "9\n"
     ]
    }
   ],
   "source": [
    "print(3**2)\n",
    "print(pow(3, 2)) # 3의 2제곱"
   ]
  },
  {
   "cell_type": "code",
   "execution_count": 10,
   "metadata": {},
   "outputs": [
    {
     "name": "stdout",
     "output_type": "stream",
     "text": [
      "1.6666666666666667\n",
      "1.67\n"
     ]
    }
   ],
   "source": [
    "print(5 / 3)\n",
    "print(round(5 / 3, 2)) # 소수 2의 자리까지 반올림해라"
   ]
  },
  {
   "cell_type": "code",
   "execution_count": 12,
   "metadata": {},
   "outputs": [
    {
     "name": "stdout",
     "output_type": "stream",
     "text": [
      "0xf\n",
      "0x10\n",
      "0b101\n",
      "0b1001110001000\n"
     ]
    }
   ],
   "source": [
    "print(hex(15))\n",
    "print(hex(16))\n",
    "print(bin(5))\n",
    "print(bin(5000))"
   ]
  },
  {
   "cell_type": "markdown",
   "metadata": {},
   "source": [
    "#### import modules (math and random)\n",
    "- import math\n",
    "- import random"
   ]
  },
  {
   "cell_type": "code",
   "execution_count": 14,
   "metadata": {},
   "outputs": [
    {
     "name": "stdout",
     "output_type": "stream",
     "text": [
      "5.0\n",
      "2.0\n",
      "25.0\n"
     ]
    }
   ],
   "source": [
    "import math\n",
    "\n",
    "print(math.sqrt(25))\n",
    "print(math.log(100, 10))\n",
    "print(math.pow(5, 2))\n"
   ]
  },
  {
   "cell_type": "code",
   "execution_count": 15,
   "metadata": {},
   "outputs": [
    {
     "name": "stdout",
     "output_type": "stream",
     "text": [
      "0.06478507981736892\n",
      "6\n"
     ]
    }
   ],
   "source": [
    "import random\n",
    "\n",
    "print(random.random())\n",
    "print(random.randint(0,9))"
   ]
  },
  {
   "cell_type": "markdown",
   "metadata": {},
   "source": [
    "#### Floating number in memory\n",
    "- X = 1 #int\n",
    "- Y = 1.1 #float"
   ]
  },
  {
   "cell_type": "code",
   "execution_count": 16,
   "metadata": {},
   "outputs": [
    {
     "name": "stdout",
     "output_type": "stream",
     "text": [
      "False\n"
     ]
    }
   ],
   "source": [
    "# 1.1과 2.2는 해당 숫자와 가장 근사한 값으로 저장되기 때문에 3.3과는 같지 않다\n",
    "print( 1.1 + 2.2 == 3.3) "
   ]
  },
  {
   "cell_type": "code",
   "execution_count": 17,
   "metadata": {},
   "outputs": [
    {
     "data": {
      "text/plain": [
       "True"
      ]
     },
     "execution_count": 17,
     "metadata": {},
     "output_type": "execute_result"
    }
   ],
   "source": [
    "int(1.1 + 2.2) == int(3.3)"
   ]
  },
  {
   "cell_type": "markdown",
   "metadata": {},
   "source": [
    "#### Boolean\n",
    "- True or False\n",
    "- 특별한 1과 0 (int)"
   ]
  },
  {
   "cell_type": "code",
   "execution_count": 18,
   "metadata": {},
   "outputs": [
    {
     "name": "stdout",
     "output_type": "stream",
     "text": [
      "True\n",
      "True\n"
     ]
    }
   ],
   "source": [
    "# True는 int의 인스턴스가 맞나?\n",
    "Z = True\n",
    "print(isinstance(Z, bool))\n",
    "print(isinstance(Z, int))"
   ]
  },
  {
   "cell_type": "code",
   "execution_count": 20,
   "metadata": {},
   "outputs": [
    {
     "name": "stdout",
     "output_type": "stream",
     "text": [
      "False\n",
      "True\n",
      "0\n",
      "1\n"
     ]
    }
   ],
   "source": [
    "print( True and False)\n",
    "print( True or False)\n",
    "print( 1 and 0 )\n",
    "print( 1 or 0 )"
   ]
  },
  {
   "cell_type": "markdown",
   "metadata": {},
   "source": [
    "#### Complex number\n",
    "- 복소수 : a + bj\n",
    "- a : 실수부\n",
    "- b : 허수부\n",
    "- j : 제곱근 -1"
   ]
  },
  {
   "cell_type": "code",
   "execution_count": 21,
   "metadata": {},
   "outputs": [
    {
     "name": "stdout",
     "output_type": "stream",
     "text": [
      "z1: (2+3j)\n",
      "z2: (1-2j)\n",
      "Sum: (3+1j)\n",
      "Difference: (1+5j)\n",
      "Product: (8-1j)\n",
      "Quotient: (-0.8+1.4j)\n",
      "Real part of z1: 2.0\n",
      "Imaginary part of z1: 3.0\n",
      "Conjugate of z1: (2-3j)\n"
     ]
    }
   ],
   "source": [
    "# 복소수 정의\n",
    "z1 = 2 + 3j\n",
    "z2 = 1 - 2j\n",
    "\n",
    "# 복소수의 연산\n",
    "sum_z = z1 + z2          # 덧셈\n",
    "diff_z = z1 - z2         # 뺄셈\n",
    "product_z = z1 * z2      # 곱셈\n",
    "quotient_z = z1 / z2     # 나눗셈\n",
    "\n",
    "# 복소수의 속성\n",
    "real_part = z1.real      # 실수 부분\n",
    "imaginary_part = z1.imag # 허수 부분\n",
    "conjugate_z = z1.conjugate() # 켤레 복소수\n",
    "\n",
    "# 결과 출력\n",
    "print(\"z1:\", z1)\n",
    "print(\"z2:\", z2)\n",
    "print(\"Sum:\", sum_z)\n",
    "print(\"Difference:\", diff_z)\n",
    "print(\"Product:\", product_z)\n",
    "print(\"Quotient:\", quotient_z)\n",
    "print(\"Real part of z1:\", real_part)\n",
    "print(\"Imaginary part of z1:\", imaginary_part)\n",
    "print(\"Conjugate of z1:\", conjugate_z)"
   ]
  }
 ],
 "metadata": {
  "kernelspec": {
   "display_name": "py3_11",
   "language": "python",
   "name": "python3"
  },
  "language_info": {
   "codemirror_mode": {
    "name": "ipython",
    "version": 3
   },
   "file_extension": ".py",
   "mimetype": "text/x-python",
   "name": "python",
   "nbconvert_exporter": "python",
   "pygments_lexer": "ipython3",
   "version": "3.11.9"
  }
 },
 "nbformat": 4,
 "nbformat_minor": 2
}
