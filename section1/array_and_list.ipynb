{
 "cells": [
  {
   "cell_type": "markdown",
   "metadata": {},
   "source": [
    "# Array and List \n",
    "\n",
    "파이썬에서와 자료구조의 배열과 리스트는 살짝 다르다.\n",
    "\n",
    "### Array\n",
    ": 메모리의 연속 공간에 값이 채워져 있는 형태의 자료구조\n",
    "- 배열의 값은 인덱스를 통해 참조할 수 있으며, 선언한 자료형의 값만 저장할 수 있다.\n",
    "\n",
    "특징\n",
    "1. 인덱스를 사용하여 값에 바로 접근가능\n",
    "2. 새로운 값을 삽입하거나 특정 인덱스에 있는 값을 삭제하기 어렵다. 값을 삽입하거나 삭제하려면 해당 인덱스 주변에 있는 값을 이동시키는 과정이 필요\n",
    "3. 배열의 크기는 선언할 때 지정할 수 있으며, 한 번 선언하면 크기를 늘리거나 줄일 수 없다.\n",
    "\n",
    "### List\n",
    ": 값과 포인터를 묶은 노드라는 것을 포인터로 연결한 자료구조\n",
    "\n",
    "특징\n",
    "1. 인덱스가 없으므로 값에 접근하려면 Head 포인터부터 순서대로 접근해야한다. (리스트의 단점 : 값에 접근하는 속도가 느리다.)\n",
    "2. 포인터로 연결되어 있으므로 데이터를 삽입하거나 삭제하는 연산속도가 빠르다.\n",
    "3. 선언할 때 크기를 별도로 지정하지 않아도 된다. (리스트의 장점 : 리스트의 크기는 정해져 있지 않으며, 크기가 변하기 쉬운 데이터를 다룰 때 적절하다.)\n",
    "\n",
    "#### 파이썬에서는 배열과 리스트를 구분하지 않는다\n",
    "- 파이썬은 리스트의 특징, 배열의 특징까지 모두 가지도록 구현됨\n",
    "- 해당 장점을 코딩테스트에서 잘 활용하면 다른 언어보다 조금 더 쉽게 정답 코드를 구현할 수 있다."
   ]
  },
  {
   "cell_type": "code",
   "execution_count": 1,
   "metadata": {},
   "outputs": [
    {
     "name": "stdout",
     "output_type": "stream",
     "text": [
      "apple\n",
      "3\n",
      "['apple', 'cherry', 'orange']\n"
     ]
    }
   ],
   "source": [
    "# 리스트 생성\n",
    "fruits = [\"apple\", \"banana\", \"cherry\"]\n",
    "\n",
    "# 요소 추가\n",
    "fruits.append(\"orange\")\n",
    "\n",
    "# 요소 접근\n",
    "print(fruits[0])  # apple\n",
    "\n",
    "# 요소 제거\n",
    "fruits.remove(\"banana\")\n",
    "\n",
    "# 리스트 길이\n",
    "print(len(fruits))  # 3\n",
    "\n",
    "# 리스트 정렬\n",
    "fruits.sort()\n",
    "\n",
    "# 리스트 출력\n",
    "print(fruits)"
   ]
  },
  {
   "cell_type": "code",
   "execution_count": 2,
   "metadata": {},
   "outputs": [
    {
     "name": "stdout",
     "output_type": "stream",
     "text": [
      "2\n",
      "5\n",
      "array('i', [1, 2, 4, 5, 6])\n"
     ]
    }
   ],
   "source": [
    "import array\n",
    "\n",
    "# 정수형 배열 생성\n",
    "numbers = array.array('i', [1, 2, 3, 4, 5])\n",
    "\n",
    "# 배열 요소 접근\n",
    "print(numbers[1])  # 2\n",
    "\n",
    "# 배열 요소 추가\n",
    "numbers.append(6)\n",
    "\n",
    "# 배열 요소 제거\n",
    "numbers.remove(3)\n",
    "\n",
    "# 배열 길이\n",
    "print(len(numbers))  # 5\n",
    "\n",
    "# 배열 출력\n",
    "print(numbers)"
   ]
  },
  {
   "cell_type": "code",
   "execution_count": 3,
   "metadata": {},
   "outputs": [
    {
     "name": "stdout",
     "output_type": "stream",
     "text": [
      "[4 6 8]\n",
      "(5,)\n",
      "[ 2  4  6  8 10]\n"
     ]
    }
   ],
   "source": [
    "import numpy as np\n",
    "\n",
    "# numpy 배열 생성\n",
    "arr = np.array([1, 2, 3, 4, 5])\n",
    "\n",
    "# 배열의 모든 요소에 연산 수행\n",
    "arr = arr * 2\n",
    "\n",
    "# 배열 슬라이싱\n",
    "print(arr[1:4])  # [4 6 8]\n",
    "\n",
    "# 배열의 크기\n",
    "print(arr.shape)  # (5,)\n",
    "\n",
    "# 배열 출력\n",
    "print(arr)"
   ]
  },
  {
   "cell_type": "code",
   "execution_count": 2,
   "metadata": {},
   "outputs": [
    {
     "name": "stdout",
     "output_type": "stream",
     "text": [
      "1\n"
     ]
    }
   ],
   "source": [
    "n = input() # n = '11'\n",
    "numbers = list(input())  # numbers: ['1','0','9','8',7','6','5','4','3','2','1']\n",
    "sum = 0\n",
    "\n",
    "for i in numbers:\n",
    "    sum = sum + int(i) \n",
    "\n",
    "print(sum)"
   ]
  },
  {
   "cell_type": "markdown",
   "metadata": {},
   "source": [
    "- **슈도코드(pseudocode)** : 프로그램을 작성할 때 각 모듈이 작동하는 논리를 표현하기 위한 언어"
   ]
  }
 ],
 "metadata": {
  "kernelspec": {
   "display_name": "py312",
   "language": "python",
   "name": "python3"
  },
  "language_info": {
   "codemirror_mode": {
    "name": "ipython",
    "version": 3
   },
   "file_extension": ".py",
   "mimetype": "text/x-python",
   "name": "python",
   "nbconvert_exporter": "python",
   "pygments_lexer": "ipython3",
   "version": "3.11.9"
  }
 },
 "nbformat": 4,
 "nbformat_minor": 2
}
